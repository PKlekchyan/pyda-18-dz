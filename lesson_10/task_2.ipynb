{
 "cells": [
  {
   "cell_type": "code",
   "execution_count": 37,
   "id": "multiple-asthma",
   "metadata": {},
   "outputs": [
    {
     "name": "stdout",
     "output_type": "stream",
     "text": [
      "240580.0\n"
     ]
    },
    {
     "name": "stderr",
     "output_type": "stream",
     "text": [
      "<ipython-input-37-5c521f31f817>:4: UserWarning: Boolean Series key will be reindexed to match DataFrame index.\n",
      "  print(df[(df.category == 4) | (df.category == 12) | (df.category == 21)]\n",
      "<ipython-input-37-5c521f31f817>:4: UserWarning: Boolean Series key will be reindexed to match DataFrame index.\n",
      "  print(df[(df.category == 4) | (df.category == 12) | (df.category == 21)]\n",
      "<ipython-input-37-5c521f31f817>:4: UserWarning: Boolean Series key will be reindexed to match DataFrame index.\n",
      "  print(df[(df.category == 4) | (df.category == 12) | (df.category == 21)]\n"
     ]
    }
   ],
   "source": [
    "import pandas as pd\n",
    "pribalt = [\"Lithuania\", \"Latvia\", \"Estonia\"]\n",
    "df = pd.read_csv(\"power.csv\", encoding=\"utf-8\")\n",
    "print(df[(df.category == 4) | (df.category == 12) | (df.category == 21)]\n",
    "      [(df.country == \"Lithuania\") | (df.country == \"Latvia\") | (df.country == \"Estonia\")]\n",
    "      [(df.year <= 2010) & (df.year >= 2005)]\n",
    "      [df.quantity >= 0.0].quantity.sum())"
   ]
  },
  {
   "cell_type": "code",
   "execution_count": null,
   "id": "proud-easter",
   "metadata": {},
   "outputs": [],
   "source": []
  }
 ],
 "metadata": {
  "kernelspec": {
   "display_name": "Python 3",
   "language": "python",
   "name": "python3"
  },
  "language_info": {
   "codemirror_mode": {
    "name": "ipython",
    "version": 3
   },
   "file_extension": ".py",
   "mimetype": "text/x-python",
   "name": "python",
   "nbconvert_exporter": "python",
   "pygments_lexer": "ipython3",
   "version": "3.9.0"
  }
 },
 "nbformat": 4,
 "nbformat_minor": 5
}
