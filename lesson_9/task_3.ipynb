{
 "cells": [
  {
   "cell_type": "code",
   "execution_count": 4,
   "id": "relevant-national",
   "metadata": {},
   "outputs": [
    {
     "name": "stdout",
     "output_type": "stream",
     "text": [
      "X = 0.4666666666666668, Y = 3.844444444444444, Z = -5.555555555555555\n"
     ]
    }
   ],
   "source": [
    "import numpy as np\n",
    "\n",
    "# 4x + 2y + z = 4\n",
    "# x + 3y = 12\n",
    "# 5y + 4z = -3\n",
    "\n",
    "a = np.array([[4, 2, 1], [1, 3, 0], [0, 5 ,4]])\n",
    "b = np.array([4, 12, -3])\n",
    "\n",
    "result = np.linalg.solve(a, b)\n",
    "print(\"X = {}, Y = {}, Z = {}\".format(result[0], result[1], result[2]))"
   ]
  },
  {
   "cell_type": "code",
   "execution_count": null,
   "id": "egyptian-plane",
   "metadata": {},
   "outputs": [],
   "source": []
  }
 ],
 "metadata": {
  "kernelspec": {
   "display_name": "Python 3",
   "language": "python",
   "name": "python3"
  },
  "language_info": {
   "codemirror_mode": {
    "name": "ipython",
    "version": 3
   },
   "file_extension": ".py",
   "mimetype": "text/x-python",
   "name": "python",
   "nbconvert_exporter": "python",
   "pygments_lexer": "ipython3",
   "version": "3.9.0"
  }
 },
 "nbformat": 4,
 "nbformat_minor": 5
}
