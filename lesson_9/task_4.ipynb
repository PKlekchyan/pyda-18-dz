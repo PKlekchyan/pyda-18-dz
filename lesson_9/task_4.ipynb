{
 "cells": [
  {
   "cell_type": "code",
   "execution_count": 9,
   "id": "close-change",
   "metadata": {},
   "outputs": [
    {
     "name": "stdout",
     "output_type": "stream",
     "text": [
      "Самый похожий пользователь с ID: 7 и косинусовым сходством: 0.9486832980505138\n"
     ]
    }
   ],
   "source": [
    "import numpy as np\n",
    "\n",
    "users_stats = np.array(\n",
    "    [\n",
    "        [2, 1, 0, 0, 0, 0],\n",
    "        [1, 1, 2, 1, 0, 0],\n",
    "        [2, 0, 1, 0, 0, 0],\n",
    "        [1, 1, 2, 1, 0, 1],\n",
    "        [0, 0, 1, 2, 0, 0],\n",
    "        [0, 0, 0, 0, 0, 5],\n",
    "        [1, 0, 0, 0, 0, 0],\n",
    "        [0, 1, 1, 0, 0, 0],\n",
    "        [0, 0, 0, 1, 1, 3],\n",
    "        [1, 0, 0, 2, 1, 4]\n",
    "    ], \n",
    "    np.int32\n",
    ")\n",
    "\n",
    "next_user_stats = np.array([0, 1, 2, 0, 0, 0])\n",
    "       \n",
    "def cosine(a, b):\n",
    "    aLength = np.linalg.norm( a )\n",
    "    bLength = np.linalg.norm( b )\n",
    "    return np.dot( a, b ) / ( aLength * bLength )\n",
    "\n",
    "def the_most_similar(users_list, user):\n",
    "    similar = {\"id\" : 0, \"value\" : 0.0}\n",
    "    for i in range(len(users_list)):\n",
    "        cos = cosine(user, users_list[i])\n",
    "        if cos > similar[\"value\"]:\n",
    "            similar[\"value\"] = cos\n",
    "            similar[\"id\"] = i\n",
    "    print(\"Самый похожий пользователь с ID: {} и косинусовым сходством: {}\".format(similar[\"id\"], similar[\"value\"]))\n",
    "\n",
    "the_most_similar(users_stats, next_user_stats)"
   ]
  },
  {
   "cell_type": "code",
   "execution_count": null,
   "id": "constant-visit",
   "metadata": {},
   "outputs": [],
   "source": []
  }
 ],
 "metadata": {
  "kernelspec": {
   "display_name": "Python 3",
   "language": "python",
   "name": "python3"
  },
  "language_info": {
   "codemirror_mode": {
    "name": "ipython",
    "version": 3
   },
   "file_extension": ".py",
   "mimetype": "text/x-python",
   "name": "python",
   "nbconvert_exporter": "python",
   "pygments_lexer": "ipython3",
   "version": "3.9.0"
  }
 },
 "nbformat": 4,
 "nbformat_minor": 5
}
