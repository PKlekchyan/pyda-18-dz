{
 "cells": [
  {
   "cell_type": "markdown",
   "id": "indie-might",
   "metadata": {},
   "source": [
    "# Задание 1"
   ]
  },
  {
   "cell_type": "code",
   "execution_count": 1,
   "id": "missing-drunk",
   "metadata": {
    "scrolled": true
   },
   "outputs": [],
   "source": [
    "import pandas as pd\n",
    "\n",
    "names = ['операция', 'возраст', 'номер', 'рект_температура', 'пульс', 'частота дыхания', 'темпер конечностей', 'переферийн пульс',\n",
    "         'слизистые оболочки', 'время наполнен каппиляр', 'боль', 'перистальтика', 'вздутие живота',\n",
    "         'назогастральный зонд ', 'назогастральный reflux', 'назогастральный reflux PH', 'ректальное исследование', 'живот',\n",
    "         'объем упакованной ячейки ', 'общий белок ', 'внешний вид брюшной полости ', 'общий белок брюшной полости ',\n",
    "         'исход', 'хирургическое поражение ', 'type of lesion1', 'type of lesion2', 'type of lesion3', 'cp_data']\n",
    "\n",
    "df = pd.read_csv('horse_data.csv', names=names, na_values='?', encoding=\"utf-8\")"
   ]
  },
  {
   "cell_type": "code",
   "execution_count": 2,
   "id": "binding-settlement",
   "metadata": {},
   "outputs": [
    {
     "data": {
      "text/plain": [
       "операция                         0.33\n",
       "возраст                          0.00\n",
       "номер                            0.00\n",
       "рект_температура                20.00\n",
       "пульс                            8.00\n",
       "частота дыхания                 19.33\n",
       "темпер конечностей              18.67\n",
       "переферийн пульс                23.00\n",
       "слизистые оболочки              15.67\n",
       "время наполнен каппиляр         10.67\n",
       "боль                            18.33\n",
       "перистальтика                   14.67\n",
       "вздутие живота                  18.67\n",
       "назогастральный зонд            34.67\n",
       "назогастральный reflux          35.33\n",
       "назогастральный reflux PH       82.33\n",
       "ректальное исследование         34.00\n",
       "живот                           39.33\n",
       "объем упакованной ячейки         9.67\n",
       "общий белок                     11.00\n",
       "внешний вид брюшной полости     55.00\n",
       "общий белок брюшной полости     66.00\n",
       "исход                            0.33\n",
       "хирургическое поражение          0.00\n",
       "type of lesion1                  0.00\n",
       "type of lesion2                  0.00\n",
       "type of lesion3                  0.00\n",
       "cp_data                          0.00\n",
       "dtype: float64"
      ]
     },
     "execution_count": 2,
     "metadata": {},
     "output_type": "execute_result"
    }
   ],
   "source": [
    "(df.isna().mean()*100).round(2)"
   ]
  },
  {
   "cell_type": "code",
   "execution_count": 3,
   "id": "backed-repair",
   "metadata": {},
   "outputs": [
    {
     "data": {
      "text/html": [
       "<div>\n",
       "<style scoped>\n",
       "    .dataframe tbody tr th:only-of-type {\n",
       "        vertical-align: middle;\n",
       "    }\n",
       "\n",
       "    .dataframe tbody tr th {\n",
       "        vertical-align: top;\n",
       "    }\n",
       "\n",
       "    .dataframe thead th {\n",
       "        text-align: right;\n",
       "    }\n",
       "</style>\n",
       "<table border=\"1\" class=\"dataframe\">\n",
       "  <thead>\n",
       "    <tr style=\"text-align: right;\">\n",
       "      <th></th>\n",
       "      <th>операция</th>\n",
       "      <th>возраст</th>\n",
       "      <th>рект_температура</th>\n",
       "      <th>пульс</th>\n",
       "      <th>темпер конечностей</th>\n",
       "      <th>перистальтика</th>\n",
       "      <th>вздутие живота</th>\n",
       "      <th>исход</th>\n",
       "    </tr>\n",
       "  </thead>\n",
       "  <tbody>\n",
       "    <tr>\n",
       "      <th>0</th>\n",
       "      <td>2.0</td>\n",
       "      <td>1</td>\n",
       "      <td>38.5</td>\n",
       "      <td>66.0</td>\n",
       "      <td>3.0</td>\n",
       "      <td>4.0</td>\n",
       "      <td>4.0</td>\n",
       "      <td>2.0</td>\n",
       "    </tr>\n",
       "    <tr>\n",
       "      <th>1</th>\n",
       "      <td>1.0</td>\n",
       "      <td>1</td>\n",
       "      <td>39.2</td>\n",
       "      <td>88.0</td>\n",
       "      <td>NaN</td>\n",
       "      <td>4.0</td>\n",
       "      <td>2.0</td>\n",
       "      <td>3.0</td>\n",
       "    </tr>\n",
       "    <tr>\n",
       "      <th>2</th>\n",
       "      <td>2.0</td>\n",
       "      <td>1</td>\n",
       "      <td>38.3</td>\n",
       "      <td>40.0</td>\n",
       "      <td>1.0</td>\n",
       "      <td>3.0</td>\n",
       "      <td>1.0</td>\n",
       "      <td>1.0</td>\n",
       "    </tr>\n",
       "    <tr>\n",
       "      <th>3</th>\n",
       "      <td>1.0</td>\n",
       "      <td>9</td>\n",
       "      <td>39.1</td>\n",
       "      <td>164.0</td>\n",
       "      <td>4.0</td>\n",
       "      <td>4.0</td>\n",
       "      <td>4.0</td>\n",
       "      <td>2.0</td>\n",
       "    </tr>\n",
       "    <tr>\n",
       "      <th>4</th>\n",
       "      <td>2.0</td>\n",
       "      <td>1</td>\n",
       "      <td>37.3</td>\n",
       "      <td>104.0</td>\n",
       "      <td>NaN</td>\n",
       "      <td>NaN</td>\n",
       "      <td>NaN</td>\n",
       "      <td>2.0</td>\n",
       "    </tr>\n",
       "    <tr>\n",
       "      <th>...</th>\n",
       "      <td>...</td>\n",
       "      <td>...</td>\n",
       "      <td>...</td>\n",
       "      <td>...</td>\n",
       "      <td>...</td>\n",
       "      <td>...</td>\n",
       "      <td>...</td>\n",
       "      <td>...</td>\n",
       "    </tr>\n",
       "    <tr>\n",
       "      <th>295</th>\n",
       "      <td>1.0</td>\n",
       "      <td>1</td>\n",
       "      <td>NaN</td>\n",
       "      <td>120.0</td>\n",
       "      <td>4.0</td>\n",
       "      <td>4.0</td>\n",
       "      <td>NaN</td>\n",
       "      <td>3.0</td>\n",
       "    </tr>\n",
       "    <tr>\n",
       "      <th>296</th>\n",
       "      <td>2.0</td>\n",
       "      <td>1</td>\n",
       "      <td>37.2</td>\n",
       "      <td>72.0</td>\n",
       "      <td>3.0</td>\n",
       "      <td>3.0</td>\n",
       "      <td>3.0</td>\n",
       "      <td>3.0</td>\n",
       "    </tr>\n",
       "    <tr>\n",
       "      <th>297</th>\n",
       "      <td>1.0</td>\n",
       "      <td>1</td>\n",
       "      <td>37.5</td>\n",
       "      <td>72.0</td>\n",
       "      <td>4.0</td>\n",
       "      <td>4.0</td>\n",
       "      <td>3.0</td>\n",
       "      <td>2.0</td>\n",
       "    </tr>\n",
       "    <tr>\n",
       "      <th>298</th>\n",
       "      <td>1.0</td>\n",
       "      <td>1</td>\n",
       "      <td>36.5</td>\n",
       "      <td>100.0</td>\n",
       "      <td>3.0</td>\n",
       "      <td>3.0</td>\n",
       "      <td>3.0</td>\n",
       "      <td>1.0</td>\n",
       "    </tr>\n",
       "    <tr>\n",
       "      <th>299</th>\n",
       "      <td>1.0</td>\n",
       "      <td>1</td>\n",
       "      <td>37.2</td>\n",
       "      <td>40.0</td>\n",
       "      <td>NaN</td>\n",
       "      <td>NaN</td>\n",
       "      <td>NaN</td>\n",
       "      <td>3.0</td>\n",
       "    </tr>\n",
       "  </tbody>\n",
       "</table>\n",
       "<p>300 rows × 8 columns</p>\n",
       "</div>"
      ],
      "text/plain": [
       "     операция  возраст  рект_температура  пульс  темпер конечностей  \\\n",
       "0         2.0        1              38.5   66.0                 3.0   \n",
       "1         1.0        1              39.2   88.0                 NaN   \n",
       "2         2.0        1              38.3   40.0                 1.0   \n",
       "3         1.0        9              39.1  164.0                 4.0   \n",
       "4         2.0        1              37.3  104.0                 NaN   \n",
       "..        ...      ...               ...    ...                 ...   \n",
       "295       1.0        1               NaN  120.0                 4.0   \n",
       "296       2.0        1              37.2   72.0                 3.0   \n",
       "297       1.0        1              37.5   72.0                 4.0   \n",
       "298       1.0        1              36.5  100.0                 3.0   \n",
       "299       1.0        1              37.2   40.0                 NaN   \n",
       "\n",
       "     перистальтика  вздутие живота  исход  \n",
       "0              4.0             4.0    2.0  \n",
       "1              4.0             2.0    3.0  \n",
       "2              3.0             1.0    1.0  \n",
       "3              4.0             4.0    2.0  \n",
       "4              NaN             NaN    2.0  \n",
       "..             ...             ...    ...  \n",
       "295            4.0             NaN    3.0  \n",
       "296            3.0             3.0    3.0  \n",
       "297            4.0             3.0    2.0  \n",
       "298            3.0             3.0    1.0  \n",
       "299            NaN             NaN    3.0  \n",
       "\n",
       "[300 rows x 8 columns]"
      ]
     },
     "execution_count": 3,
     "metadata": {},
     "output_type": "execute_result"
    }
   ],
   "source": [
    "df = df[['операция', \"возраст\", 'рект_температура', 'пульс', \"темпер конечностей\", 'перистальтика', 'вздутие живота', 'исход']]\n",
    "df"
   ]
  },
  {
   "cell_type": "code",
   "execution_count": 4,
   "id": "normal-vertical",
   "metadata": {},
   "outputs": [
    {
     "data": {
      "text/html": [
       "<div>\n",
       "<style scoped>\n",
       "    .dataframe tbody tr th:only-of-type {\n",
       "        vertical-align: middle;\n",
       "    }\n",
       "\n",
       "    .dataframe tbody tr th {\n",
       "        vertical-align: top;\n",
       "    }\n",
       "\n",
       "    .dataframe thead th {\n",
       "        text-align: right;\n",
       "    }\n",
       "</style>\n",
       "<table border=\"1\" class=\"dataframe\">\n",
       "  <thead>\n",
       "    <tr style=\"text-align: right;\">\n",
       "      <th></th>\n",
       "      <th>операция</th>\n",
       "      <th>возраст</th>\n",
       "      <th>темпер конечностей</th>\n",
       "      <th>перистальтика</th>\n",
       "      <th>вздутие живота</th>\n",
       "      <th>исход</th>\n",
       "    </tr>\n",
       "  </thead>\n",
       "  <tbody>\n",
       "    <tr>\n",
       "      <th>0</th>\n",
       "      <td>1.0</td>\n",
       "      <td>1</td>\n",
       "      <td>3.0</td>\n",
       "      <td>3.0</td>\n",
       "      <td>1.0</td>\n",
       "      <td>1.0</td>\n",
       "    </tr>\n",
       "  </tbody>\n",
       "</table>\n",
       "</div>"
      ],
      "text/plain": [
       "   операция  возраст  темпер конечностей  перистальтика  вздутие живота  исход\n",
       "0       1.0        1                 3.0            3.0             1.0    1.0"
      ]
     },
     "execution_count": 4,
     "metadata": {},
     "output_type": "execute_result"
    }
   ],
   "source": [
    "df[['операция', \"возраст\", \"темпер конечностей\", 'перистальтика', 'вздутие живота', 'исход']].mode()"
   ]
  },
  {
   "cell_type": "code",
   "execution_count": 5,
   "id": "portuguese-theory",
   "metadata": {},
   "outputs": [
    {
     "data": {
      "text/html": [
       "<div>\n",
       "<style scoped>\n",
       "    .dataframe tbody tr th:only-of-type {\n",
       "        vertical-align: middle;\n",
       "    }\n",
       "\n",
       "    .dataframe tbody tr th {\n",
       "        vertical-align: top;\n",
       "    }\n",
       "\n",
       "    .dataframe thead th {\n",
       "        text-align: right;\n",
       "    }\n",
       "</style>\n",
       "<table border=\"1\" class=\"dataframe\">\n",
       "  <thead>\n",
       "    <tr style=\"text-align: right;\">\n",
       "      <th></th>\n",
       "      <th>рект_температура</th>\n",
       "      <th>пульс</th>\n",
       "    </tr>\n",
       "  </thead>\n",
       "  <tbody>\n",
       "    <tr>\n",
       "      <th>count</th>\n",
       "      <td>240.00</td>\n",
       "      <td>276.00</td>\n",
       "    </tr>\n",
       "    <tr>\n",
       "      <th>mean</th>\n",
       "      <td>38.17</td>\n",
       "      <td>71.91</td>\n",
       "    </tr>\n",
       "    <tr>\n",
       "      <th>std</th>\n",
       "      <td>0.73</td>\n",
       "      <td>28.63</td>\n",
       "    </tr>\n",
       "    <tr>\n",
       "      <th>min</th>\n",
       "      <td>35.40</td>\n",
       "      <td>30.00</td>\n",
       "    </tr>\n",
       "    <tr>\n",
       "      <th>25%</th>\n",
       "      <td>37.80</td>\n",
       "      <td>48.00</td>\n",
       "    </tr>\n",
       "    <tr>\n",
       "      <th>50%</th>\n",
       "      <td>38.20</td>\n",
       "      <td>64.00</td>\n",
       "    </tr>\n",
       "    <tr>\n",
       "      <th>75%</th>\n",
       "      <td>38.50</td>\n",
       "      <td>88.00</td>\n",
       "    </tr>\n",
       "    <tr>\n",
       "      <th>max</th>\n",
       "      <td>40.80</td>\n",
       "      <td>184.00</td>\n",
       "    </tr>\n",
       "  </tbody>\n",
       "</table>\n",
       "</div>"
      ],
      "text/plain": [
       "       рект_температура   пульс\n",
       "count            240.00  276.00\n",
       "mean              38.17   71.91\n",
       "std                0.73   28.63\n",
       "min               35.40   30.00\n",
       "25%               37.80   48.00\n",
       "50%               38.20   64.00\n",
       "75%               38.50   88.00\n",
       "max               40.80  184.00"
      ]
     },
     "execution_count": 5,
     "metadata": {},
     "output_type": "execute_result"
    }
   ],
   "source": [
    "df[['рект_температура', 'пульс']].describe().round(2)"
   ]
  },
  {
   "cell_type": "markdown",
   "id": "floral-hazard",
   "metadata": {},
   "source": [
    "# Задание 2"
   ]
  },
  {
   "cell_type": "code",
   "execution_count": 6,
   "id": "played-integrity",
   "metadata": {},
   "outputs": [],
   "source": [
    "# Функция для определения выбросов, которая возвращает список с df без выбросов и df самих выбросов\n",
    "def find_outliers(col):\n",
    "    Q1 = df[col].quantile(0.25)\n",
    "    Q3 = df[col].quantile(0.75)\n",
    "    IQR = Q3 - Q1\n",
    "    IQR\n",
    "\n",
    "    l_outlier = Q1 - (1.5*IQR)\n",
    "    h_outlier = Q3 + (1.5*IQR)\n",
    "\n",
    "    df_without_outlier = df[df[col].between(l_outlier, h_outlier, inclusive=True)]\n",
    "    df_outlier = pd.concat([df, df_without_outlier]).drop_duplicates(keep=False)\n",
    "    return [df_without_outlier, df_outlier]\n",
    "    "
   ]
  },
  {
   "cell_type": "code",
   "execution_count": 7,
   "id": "limited-bowling",
   "metadata": {},
   "outputs": [
    {
     "data": {
      "text/plain": [
       "5       NaN\n",
       "7       NaN\n",
       "8       NaN\n",
       "16      NaN\n",
       "20     39.9\n",
       "35      NaN\n",
       "40      NaN\n",
       "43      NaN\n",
       "44     35.4\n",
       "45      NaN\n",
       "52      NaN\n",
       "54     40.3\n",
       "57      NaN\n",
       "58      NaN\n",
       "65      NaN\n",
       "68      NaN\n",
       "74      NaN\n",
       "75     39.7\n",
       "80     36.4\n",
       "86      NaN\n",
       "87      NaN\n",
       "91     40.3\n",
       "93      NaN\n",
       "96      NaN\n",
       "99     39.6\n",
       "101     NaN\n",
       "105     NaN\n",
       "112     NaN\n",
       "115     NaN\n",
       "118    36.5\n",
       "134     NaN\n",
       "141    36.0\n",
       "142     NaN\n",
       "145     NaN\n",
       "159     NaN\n",
       "167     NaN\n",
       "169     NaN\n",
       "173     NaN\n",
       "174     NaN\n",
       "177     NaN\n",
       "178     NaN\n",
       "191     NaN\n",
       "193     NaN\n",
       "216     NaN\n",
       "219     NaN\n",
       "222     NaN\n",
       "227     NaN\n",
       "238    36.1\n",
       "242     NaN\n",
       "251    36.6\n",
       "253     NaN\n",
       "254     NaN\n",
       "259    40.8\n",
       "265     NaN\n",
       "274     NaN\n",
       "281    40.0\n",
       "293     NaN\n",
       "295     NaN\n",
       "298    36.5\n",
       "Name: рект_температура, dtype: float64"
      ]
     },
     "execution_count": 7,
     "metadata": {},
     "output_type": "execute_result"
    }
   ],
   "source": [
    "# Рект_температура\n",
    "\n",
    "rekt_outlier = find_outliers('рект_температура')[1]\n",
    "rekt_outlier['рект_температура']\n",
    "\n",
    "# В выбросы попали значения Nan и температура, которая на мой взгляд вполне могла быть, с ними ничего не делаем"
   ]
  },
  {
   "cell_type": "code",
   "execution_count": 8,
   "id": "significant-certification",
   "metadata": {
    "scrolled": true
   },
   "outputs": [
    {
     "data": {
      "text/plain": [
       "3      164.0\n",
       "5        NaN\n",
       "41     150.0\n",
       "52       NaN\n",
       "55     160.0\n",
       "58       NaN\n",
       "74       NaN\n",
       "93       NaN\n",
       "115      NaN\n",
       "117      NaN\n",
       "126      NaN\n",
       "151      NaN\n",
       "159      NaN\n",
       "174      NaN\n",
       "204      NaN\n",
       "216      NaN\n",
       "227      NaN\n",
       "255    184.0\n",
       "275    150.0\n",
       "Name: пульс, dtype: float64"
      ]
     },
     "execution_count": 8,
     "metadata": {},
     "output_type": "execute_result"
    }
   ],
   "source": [
    "# Пульс\n",
    "\n",
    "pulse_outlier = find_outliers('пульс')[1]\n",
    "pulse_outlier['пульс']\n",
    "\n",
    "# Такой пульс может быть в редких исключениях, не убираем"
   ]
  },
  {
   "cell_type": "code",
   "execution_count": 9,
   "id": "welcome-nicholas",
   "metadata": {},
   "outputs": [
    {
     "data": {
      "text/plain": [
       "1.0    180\n",
       "2.0    119\n",
       "Name: операция, dtype: int64"
      ]
     },
     "execution_count": 9,
     "metadata": {},
     "output_type": "execute_result"
    }
   ],
   "source": [
    "# В столбце Операция выбросов нет\n",
    "df['операция'].value_counts()"
   ]
  },
  {
   "cell_type": "code",
   "execution_count": 10,
   "id": "geographic-meditation",
   "metadata": {},
   "outputs": [
    {
     "data": {
      "text/plain": [
       "1    276\n",
       "2     24\n",
       "Name: возраст, dtype: int64"
      ]
     },
     "execution_count": 10,
     "metadata": {},
     "output_type": "execute_result"
    }
   ],
   "source": [
    "# В столбце возраст должны быть два значения 1 или 2, предполагаю, что 9 была указана по случайности и имеет значение 2.\n",
    "# Заменим значения 9 на 2\n",
    "\n",
    "df.loc[(df['возраст'] == 9), 'возраст'] = 2\n",
    "df['возраст'].value_counts()"
   ]
  },
  {
   "cell_type": "code",
   "execution_count": 11,
   "id": "general-inspiration",
   "metadata": {},
   "outputs": [
    {
     "data": {
      "text/plain": [
       "3.0    109\n",
       "1.0     78\n",
       "2.0     30\n",
       "4.0     27\n",
       "Name: темпер конечностей, dtype: int64"
      ]
     },
     "execution_count": 11,
     "metadata": {},
     "output_type": "execute_result"
    }
   ],
   "source": [
    "# Во всех следующих столбцах значения соответствуют описанию\n",
    "df['темпер конечностей'].value_counts()"
   ]
  },
  {
   "cell_type": "code",
   "execution_count": 12,
   "id": "smaller-smell",
   "metadata": {},
   "outputs": [
    {
     "data": {
      "text/plain": [
       "3.0    128\n",
       "4.0     73\n",
       "1.0     39\n",
       "2.0     16\n",
       "Name: перистальтика, dtype: int64"
      ]
     },
     "execution_count": 12,
     "metadata": {},
     "output_type": "execute_result"
    }
   ],
   "source": [
    "df['перистальтика'].value_counts()"
   ]
  },
  {
   "cell_type": "code",
   "execution_count": 13,
   "id": "physical-course",
   "metadata": {},
   "outputs": [
    {
     "data": {
      "text/plain": [
       "1.0    76\n",
       "2.0    65\n",
       "3.0    65\n",
       "4.0    38\n",
       "Name: вздутие живота, dtype: int64"
      ]
     },
     "execution_count": 13,
     "metadata": {},
     "output_type": "execute_result"
    }
   ],
   "source": [
    "df['вздутие живота'].value_counts()"
   ]
  },
  {
   "cell_type": "code",
   "execution_count": 14,
   "id": "sunrise-midwest",
   "metadata": {},
   "outputs": [
    {
     "data": {
      "text/plain": [
       "1.0    178\n",
       "2.0     77\n",
       "3.0     44\n",
       "Name: исход, dtype: int64"
      ]
     },
     "execution_count": 14,
     "metadata": {},
     "output_type": "execute_result"
    }
   ],
   "source": [
    "df['исход'].value_counts()"
   ]
  },
  {
   "cell_type": "markdown",
   "id": "silver-helmet",
   "metadata": {},
   "source": [
    "# Задание 3"
   ]
  },
  {
   "cell_type": "code",
   "execution_count": 15,
   "id": "south-sociology",
   "metadata": {},
   "outputs": [
    {
     "data": {
      "text/plain": [
       "операция               0.33\n",
       "возраст                0.00\n",
       "рект_температура      20.00\n",
       "пульс                  8.00\n",
       "темпер конечностей    18.67\n",
       "перистальтика         14.67\n",
       "вздутие живота        18.67\n",
       "исход                  0.33\n",
       "dtype: float64"
      ]
     },
     "execution_count": 15,
     "metadata": {},
     "output_type": "execute_result"
    }
   ],
   "source": [
    "(df.isna().mean()*100).round(2)"
   ]
  },
  {
   "cell_type": "code",
   "execution_count": 16,
   "id": "armed-dialogue",
   "metadata": {},
   "outputs": [],
   "source": [
    "# В столбцах \"рект_температура\" и \"темпер конечностей\" скорее всего есть связь в ту и другую сторону\n",
    "\n",
    "# Заполняем столбец \"Рект_температура\"\n",
    "df['рект_температура'].fillna(df.groupby('темпер конечностей')['рект_температура'].transform('median'), inplace=True)\n"
   ]
  },
  {
   "cell_type": "code",
   "execution_count": 17,
   "id": "tracked-singapore",
   "metadata": {},
   "outputs": [],
   "source": [
    "# Заполняем столбец \"Темпер конечностей\"\n",
    "q1 = df['темпер конечностей'].quantile(0.25)\n",
    "q2 = df['темпер конечностей'].quantile()\n",
    "q3 = df['темпер конечностей'].quantile(0.75)\n",
    "\n",
    "# По условию \"Горячие конечности должны коррелировать с повышенной ректальной температурой.\",\n",
    "# под горячие/теплые попадает значение 2\n",
    "\n",
    "def complete_temper(param, q1, q2, q3):\n",
    "    if param <=q1:\n",
    "        return 4\n",
    "    elif q1 < param <= q2:\n",
    "        return 3\n",
    "    elif q2 < param <= q3:\n",
    "        return 1\n",
    "    else:\n",
    "        return 2\n",
    "\n",
    "df['ранжировка рект_температуры'] = df['рект_температура'].apply(complete_temper, q1=q1, q2=q2, q3=q3)\n"
   ]
  },
  {
   "cell_type": "code",
   "execution_count": 18,
   "id": "fifteen-pittsburgh",
   "metadata": {
    "scrolled": true
   },
   "outputs": [],
   "source": [
    "df[\"темпер конечностей\"].fillna(df['ранжировка рект_температуры'], inplace = True)\n",
    "df.drop(['ранжировка рект_температуры'], axis=1, inplace=True)\n"
   ]
  },
  {
   "cell_type": "code",
   "execution_count": 19,
   "id": "temporal-qualification",
   "metadata": {},
   "outputs": [],
   "source": [
    "# Дозаполняем \"рект_температура\" с помощью медианы, так как есть небольшие выбросы, о которых упоминалось в Задании 2\n",
    "\n",
    "df['рект_температура'].fillna(df['рект_температура'].median(), inplace = True)"
   ]
  },
  {
   "cell_type": "code",
   "execution_count": 20,
   "id": "adjustable-treasure",
   "metadata": {},
   "outputs": [
    {
     "name": "stdout",
     "output_type": "stream",
     "text": [
      "count    276.000000\n",
      "mean      71.913043\n",
      "std       28.630557\n",
      "min       30.000000\n",
      "25%       48.000000\n",
      "50%       64.000000\n",
      "75%       88.000000\n",
      "max      184.000000\n",
      "Name: пульс, dtype: float64\n"
     ]
    }
   ],
   "source": [
    "# Пульс\n",
    "\n",
    "print(df['пульс'].describe())\n",
    "# СКО не велико, поэтому заменим пропуски средним значением\n",
    "df['пульс'].fillna(df['пульс'].mean(), inplace = True)"
   ]
  },
  {
   "cell_type": "code",
   "execution_count": 21,
   "id": "diagnostic-inspiration",
   "metadata": {},
   "outputs": [],
   "source": [
    "# Заполняем Перистельтику и вздутие живота, данные значений коррелируют\n",
    "\n",
    "# ?? Как посчитать Моду через Трансформ, есть ли другие способы групировки и определения моды по группам?\n",
    "# Медиана не подходит, но моду не поставить из списка\n",
    "\n",
    "df['перистальтика'].fillna(df.groupby(['вздутие живота'])['перистальтика'].transform('median'), inplace=True)\n",
    "\n",
    "df['вздутие живота'].fillna(df.groupby(['перистальтика'])['вздутие живота'].transform('median'), inplace=True)\n"
   ]
  },
  {
   "cell_type": "code",
   "execution_count": 22,
   "id": "southern-biotechnology",
   "metadata": {},
   "outputs": [],
   "source": [
    "# После того, как мы заполнили все возможные значения столбцов 'перистальтика' и 'вздутие живота' с помощью их связи,\n",
    "# мы заполним оставшиеся значения этих столбцов их модами.\n",
    "\n",
    "df['перистальтика'].fillna(df['перистальтика'].mode()[0], inplace=True)\n",
    "df['вздутие живота'].fillna(df['вздутие живота'].mode()[0], inplace=True)\n"
   ]
  },
  {
   "cell_type": "markdown",
   "id": "optimum-conversion",
   "metadata": {},
   "source": []
  },
  {
   "cell_type": "code",
   "execution_count": 23,
   "id": "lasting-medication",
   "metadata": {},
   "outputs": [
    {
     "name": "stdout",
     "output_type": "stream",
     "text": [
      "300\n",
      "1.0    180\n",
      "2.0    119\n",
      "Name: операция, dtype: int64\n",
      "1.0    178\n",
      "2.0     77\n",
      "3.0     44\n",
      "Name: исход, dtype: int64\n"
     ]
    }
   ],
   "source": [
    "# Не совсем понял наличие пропусков в столбцах \"Операция\" и \"Исход\"\n",
    "print(len(df))\n",
    "print(df['операция'].value_counts())\n",
    "print(df['исход'].value_counts())"
   ]
  },
  {
   "cell_type": "code",
   "execution_count": 24,
   "id": "polish-honey",
   "metadata": {},
   "outputs": [
    {
     "data": {
      "text/plain": [
       "операция              0.33\n",
       "возраст               0.00\n",
       "рект_температура      0.00\n",
       "пульс                 0.00\n",
       "темпер конечностей    0.00\n",
       "перистальтика         0.00\n",
       "вздутие живота        0.00\n",
       "исход                 0.33\n",
       "dtype: float64"
      ]
     },
     "execution_count": 24,
     "metadata": {},
     "output_type": "execute_result"
    }
   ],
   "source": [
    "(df.isna().mean()*100).round(2)"
   ]
  },
  {
   "cell_type": "code",
   "execution_count": null,
   "id": "knowing-forwarding",
   "metadata": {},
   "outputs": [],
   "source": []
  }
 ],
 "metadata": {
  "kernelspec": {
   "display_name": "Python 3",
   "language": "python",
   "name": "python3"
  },
  "language_info": {
   "codemirror_mode": {
    "name": "ipython",
    "version": 3
   },
   "file_extension": ".py",
   "mimetype": "text/x-python",
   "name": "python",
   "nbconvert_exporter": "python",
   "pygments_lexer": "ipython3",
   "version": "3.9.0"
  }
 },
 "nbformat": 4,
 "nbformat_minor": 5
}
