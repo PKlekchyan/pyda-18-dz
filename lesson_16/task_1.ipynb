{
 "cells": [
  {
   "cell_type": "code",
   "execution_count": 1,
   "id": "inner-uzbekistan",
   "metadata": {},
   "outputs": [],
   "source": [
    "import numpy as np"
   ]
  },
  {
   "cell_type": "markdown",
   "id": "adjacent-vancouver",
   "metadata": {},
   "source": [
    "# Моделирование лотерейного автомата"
   ]
  },
  {
   "cell_type": "code",
   "execution_count": 2,
   "id": "covered-hundred",
   "metadata": {},
   "outputs": [],
   "source": [
    "amount = 1000000\n",
    "summ = 0\n",
    "success = 0"
   ]
  },
  {
   "cell_type": "code",
   "execution_count": 3,
   "id": "special-cradle",
   "metadata": {},
   "outputs": [
    {
     "name": "stdout",
     "output_type": "stream",
     "text": [
      "Общая выгода за все опыты: -188705\n",
      "Средний выигрыш на одну игру: 0.811295\n",
      "Частота по Монте-Карло: 0.204342\n"
     ]
    }
   ],
   "source": [
    "for i in range(amount):\n",
    "    num = np.random.randint(0, 1000)\n",
    "    if num == 999:\n",
    "        summ+=100\n",
    "        success +=1\n",
    "    elif num == 555:\n",
    "        summ+=50\n",
    "        success += 1\n",
    "    elif num ==333:\n",
    "        summ+=15\n",
    "        success += 1\n",
    "    elif num ==111:\n",
    "        summ+=10\n",
    "        success += 1\n",
    "    elif num == 777:\n",
    "        summ += 200\n",
    "        success += 1\n",
    "    elif num%100 == 77:\n",
    "        summ+=5\n",
    "        success += 1\n",
    "    elif num%10 == 7:\n",
    "        summ+=3\n",
    "        success += 1\n",
    "    elif num%100 == 0:\n",
    "        summ+=2\n",
    "        success += 1\n",
    "    elif num%10 == 0:\n",
    "        summ+=1\n",
    "        success += 1\n",
    "        \n",
    "print('Общая выгода за все опыты:', summ-amount)\n",
    "print('Средний выигрыш на одну игру:', summ/amount)\n",
    "print('Частота по Монте-Карло:', success/amount)\n",
    "model_mean = summ/amount"
   ]
  },
  {
   "cell_type": "markdown",
   "id": "extensive-johnston",
   "metadata": {},
   "source": [
    "# Теоретический расчет среднего выигрыша"
   ]
  },
  {
   "cell_type": "code",
   "execution_count": 4,
   "id": "particular-timothy",
   "metadata": {},
   "outputs": [],
   "source": [
    "dict = {'h777':[0, 200], 'h999':[0, 100],\n",
    "        'h555':[0, 50], 'h333':[0, 15],\n",
    "        'h111':[0, 10], 'h*77':[0, 5],\n",
    "        'h**7':[0, 3], 'h*00':[0, 2], 'h**0':[0, 1]}"
   ]
  },
  {
   "cell_type": "code",
   "execution_count": 5,
   "id": "residential-advertising",
   "metadata": {},
   "outputs": [],
   "source": [
    "for num in range(1000):\n",
    "    if num == 999:\n",
    "        dict['h999'][0] += 1\n",
    "    elif num == 555:\n",
    "        dict['h555'][0] += 1\n",
    "    elif num ==333:\n",
    "        dict['h333'][0] += 1\n",
    "    elif num ==111:\n",
    "        dict['h111'][0] += 1\n",
    "    elif num == 777:\n",
    "        dict['h777'][0] += 1\n",
    "    elif num%100 == 77:\n",
    "        dict['h*77'][0] += 1\n",
    "    elif num%10 == 7:\n",
    "        dict['h**7'][0] += 1\n",
    "    elif num%100 == 0:\n",
    "        dict['h*00'][0] += 1\n",
    "    elif num%10 == 0:\n",
    "        dict['h**0'][0] += 1"
   ]
  },
  {
   "cell_type": "code",
   "execution_count": 9,
   "id": "pleased-inventory",
   "metadata": {},
   "outputs": [
    {
     "name": "stdout",
     "output_type": "stream",
     "text": [
      "0.8\n"
     ]
    }
   ],
   "source": [
    "def mean_prize(dict):\n",
    "    summ_theory = 0\n",
    "    for key, value in dict.items():\n",
    "        summ_theory += value[1]*(value[0]/1000)\n",
    "    return summ_theory\n",
    "\n",
    "theory_mean = mean_prize(dict)\n",
    "print(theory_mean)"
   ]
  },
  {
   "cell_type": "markdown",
   "id": "gentle-radar",
   "metadata": {},
   "source": [
    "# Сравнение значение моделирования и теоретического среднего выигрыша"
   ]
  },
  {
   "cell_type": "code",
   "execution_count": 10,
   "id": "plain-cartoon",
   "metadata": {},
   "outputs": [
    {
     "name": "stdout",
     "output_type": "stream",
     "text": [
      "Значение среднего выигрыша модели: 0.811295\n",
      "Теоретический средний выигрыш: 0.8\n"
     ]
    }
   ],
   "source": [
    "print('Значение среднего выигрыша модели:', model_mean)\n",
    "print('Теоретический средний выигрыш:', theory_mean)"
   ]
  },
  {
   "cell_type": "code",
   "execution_count": null,
   "id": "practical-dinner",
   "metadata": {},
   "outputs": [],
   "source": []
  }
 ],
 "metadata": {
  "kernelspec": {
   "display_name": "Python 3",
   "language": "python",
   "name": "python3"
  },
  "language_info": {
   "codemirror_mode": {
    "name": "ipython",
    "version": 3
   },
   "file_extension": ".py",
   "mimetype": "text/x-python",
   "name": "python",
   "nbconvert_exporter": "python",
   "pygments_lexer": "ipython3",
   "version": "3.9.0"
  }
 },
 "nbformat": 4,
 "nbformat_minor": 5
}
