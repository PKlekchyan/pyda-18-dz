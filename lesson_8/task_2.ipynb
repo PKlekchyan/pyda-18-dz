{
 "cells": [
  {
   "cell_type": "code",
   "execution_count": 51,
   "id": "blessed-fleece",
   "metadata": {
    "scrolled": true
   },
   "outputs": [
    {
     "name": "stdout",
     "output_type": "stream",
     "text": [
      "Напишите функцию, которая будет удалять все последовательные повторы слов из заданной строки при помощи регулярных выражений\n"
     ]
    }
   ],
   "source": [
    "import re\n",
    "some_string = 'Напишите функцию функцию, которая будет будет будет будет удалять все все все все последовательные повторы слов из из из из заданной строки строки при помощи регулярных выражений'\n",
    "def delete_repet(string):\n",
    "    return re.sub(r'(\\w+)(\\s+\\1)+', r'\\1', string)\n",
    "\n",
    "print(delete_repet(some_string))\n"
   ]
  },
  {
   "cell_type": "code",
   "execution_count": null,
   "id": "tested-essay",
   "metadata": {},
   "outputs": [],
   "source": []
  }
 ],
 "metadata": {
  "kernelspec": {
   "display_name": "Python 3",
   "language": "python",
   "name": "python3"
  },
  "language_info": {
   "codemirror_mode": {
    "name": "ipython",
    "version": 3
   },
   "file_extension": ".py",
   "mimetype": "text/x-python",
   "name": "python",
   "nbconvert_exporter": "python",
   "pygments_lexer": "ipython3",
   "version": "3.9.0"
  }
 },
 "nbformat": 4,
 "nbformat_minor": 5
}
