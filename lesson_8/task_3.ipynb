{
 "cells": [
  {
   "cell_type": "code",
   "execution_count": 27,
   "id": "broad-robert",
   "metadata": {},
   "outputs": [
    {
     "name": "stdout",
     "output_type": "stream",
     "text": [
      "NFC\n"
     ]
    }
   ],
   "source": [
    "import re\n",
    "some_words = 'near field communication'\n",
    "def return_akr(string):\n",
    "    result = re.findall(r'(?=\\b|\\s)\\w', string)\n",
    "    return \"\".join([x.upper() for x in result])\n",
    "\n",
    "print(return_akr(some_words))"
   ]
  },
  {
   "cell_type": "code",
   "execution_count": null,
   "id": "super-french",
   "metadata": {},
   "outputs": [],
   "source": []
  }
 ],
 "metadata": {
  "kernelspec": {
   "display_name": "Python 3",
   "language": "python",
   "name": "python3"
  },
  "language_info": {
   "codemirror_mode": {
    "name": "ipython",
    "version": 3
   },
   "file_extension": ".py",
   "mimetype": "text/x-python",
   "name": "python",
   "nbconvert_exporter": "python",
   "pygments_lexer": "ipython3",
   "version": "3.9.0"
  }
 },
 "nbformat": 4,
 "nbformat_minor": 5
}
