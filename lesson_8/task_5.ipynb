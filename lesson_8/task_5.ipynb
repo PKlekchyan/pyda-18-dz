{
 "cells": [
  {
   "cell_type": "code",
   "execution_count": 4,
   "id": "bacterial-cambodia",
   "metadata": {},
   "outputs": [
    {
     "name": "stdout",
     "output_type": "stream",
     "text": [
      "Гласных: 9\n",
      "Согласных: 21\n"
     ]
    }
   ],
   "source": [
    "import re\n",
    "some_text = 'Эталонной реализацией Python является интерпретатор CPython, поддерживающий большинство активно используемых платформ. Он распространяется под свободной лицензией Python Software Foundation License, позволяющей использовать его без ограничений в любых приложениях, включая проприетарные.'\n",
    "def count_vowel_constant(string):\n",
    "    vowel = len(re.findall(r'(?=\\b|\\s)[ауоиэяюёеАУОИЭЯЮЁЕaeiouyAEIOUY]', string))\n",
    "    constant = len(re.findall(r'(?=\\b|\\s)[бвгджзйклмнпрстфхцчшщБВГДЖЗЙКЛМНПРСТФХЦЧШЩbcdfghjklmnpqrstvwxyzBCDFGHJKLMNPQRSTVWXYZ]', string))\n",
    "    print(\"Гласных:\", vowel)\n",
    "    print(\"Согласных:\", constant)\n",
    "    \n",
    "count_vowel_constant(some_text)\n"
   ]
  },
  {
   "cell_type": "code",
   "execution_count": null,
   "id": "smoking-compromise",
   "metadata": {},
   "outputs": [],
   "source": []
  }
 ],
 "metadata": {
  "kernelspec": {
   "display_name": "Python 3",
   "language": "python",
   "name": "python3"
  },
  "language_info": {
   "codemirror_mode": {
    "name": "ipython",
    "version": 3
   },
   "file_extension": ".py",
   "mimetype": "text/x-python",
   "name": "python",
   "nbconvert_exporter": "python",
   "pygments_lexer": "ipython3",
   "version": "3.9.0"
  }
 },
 "nbformat": 4,
 "nbformat_minor": 5
}
