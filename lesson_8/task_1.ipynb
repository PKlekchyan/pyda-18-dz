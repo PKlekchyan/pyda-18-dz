{
 "cells": [
  {
   "cell_type": "code",
   "execution_count": 51,
   "id": "authentic-kansas",
   "metadata": {},
   "outputs": [
    {
     "name": "stdout",
     "output_type": "stream",
     "text": [
      "Номер А222АВ валиден. Регион: 96\n"
     ]
    }
   ],
   "source": [
    "import re\n",
    "def check_number(string):\n",
    "    result = re.search(r'([АВЕКМНОРСТXУ])(\\d{3})([АВЕКМНОРСТXУ]{2})(\\d{2,3})', string.upper())\n",
    "    if result != None:\n",
    "        print(\"Номер\", \"\".join(result.group(1, 2, 3)), \"валиден.\", \"Регион:\", result.group(4))\n",
    "    else:\n",
    "        print(\"Номер не валиден\")\n",
    "check_number(\"а222АВ96\")"
   ]
  },
  {
   "cell_type": "code",
   "execution_count": null,
   "id": "exposed-brook",
   "metadata": {},
   "outputs": [],
   "source": []
  }
 ],
 "metadata": {
  "kernelspec": {
   "display_name": "Python 3",
   "language": "python",
   "name": "python3"
  },
  "language_info": {
   "codemirror_mode": {
    "name": "ipython",
    "version": 3
   },
   "file_extension": ".py",
   "mimetype": "text/x-python",
   "name": "python",
   "nbconvert_exporter": "python",
   "pygments_lexer": "ipython3",
   "version": "3.9.0"
  }
 },
 "nbformat": 4,
 "nbformat_minor": 5
}
