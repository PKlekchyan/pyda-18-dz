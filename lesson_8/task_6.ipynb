{
 "cells": [
  {
   "cell_type": "code",
   "execution_count": 95,
   "id": "declared-kentucky",
   "metadata": {},
   "outputs": [
    {
     "data": {
      "text/plain": [
       "'+7-950-555-55-55'"
      ]
     },
     "execution_count": 95,
     "metadata": {},
     "output_type": "execute_result"
    }
   ],
   "source": [
    "import re\n",
    "phone = '+7(950)5555555'\n",
    "def check_phone_number(string):\n",
    "    try:\n",
    "        return re.sub(r'^\\+?(\\d)[\\s-]?\\(?(\\d{3})\\)?[\\s-]?(\\d{3})[\\s-]?(\\d{2})[\\s-]?(\\d{2})$', r'+7-\\2-\\3-\\4-\\5', phone)\n",
    "    except:\n",
    "        print(\"Номер не валиден\")\n",
    "    \n",
    "check_phone_number(phone)\n",
    "\n",
    "\n"
   ]
  }
 ],
 "metadata": {
  "kernelspec": {
   "display_name": "Python 3",
   "language": "python",
   "name": "python3"
  },
  "language_info": {
   "codemirror_mode": {
    "name": "ipython",
    "version": 3
   },
   "file_extension": ".py",
   "mimetype": "text/x-python",
   "name": "python",
   "nbconvert_exporter": "python",
   "pygments_lexer": "ipython3",
   "version": "3.9.0"
  }
 },
 "nbformat": 4,
 "nbformat_minor": 5
}
