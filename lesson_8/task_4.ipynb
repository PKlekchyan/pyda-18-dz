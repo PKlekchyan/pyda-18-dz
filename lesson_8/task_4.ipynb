{
 "cells": [
  {
   "cell_type": "code",
   "execution_count": 47,
   "id": "demonstrated-choir",
   "metadata": {
    "scrolled": true
   },
   "outputs": [
    {
     "name": "stdout",
     "output_type": "stream",
     "text": [
      "gmail.com : 2\n",
      "test.in : 1\n",
      "ya.ru : 2\n",
      "mail.ru : 1\n"
     ]
    }
   ],
   "source": [
    "import re\n",
    "emails = ['test@gmail.com', 'xyz@test.in', 'test@ya.ru', 'xyz@mail.ru', 'xyz@ya.ru', 'xyz@gmail.com']\n",
    "def count_domains(arr):\n",
    "    domains_list = {}\n",
    "    for i in arr:\n",
    "        result = re.search(r'(?<=@)\\w+\\.\\w+', i)\n",
    "        if result != None:\n",
    "            domains_list.setdefault(result[0], 0)\n",
    "            domains_list[result[0]] +=1\n",
    "    [print(key, \":\", value) for key, value in domains_list.items()]\n",
    "    \n",
    "count_domains(emails)"
   ]
  },
  {
   "cell_type": "code",
   "execution_count": null,
   "id": "labeled-tribune",
   "metadata": {},
   "outputs": [],
   "source": []
  }
 ],
 "metadata": {
  "kernelspec": {
   "display_name": "Python 3",
   "language": "python",
   "name": "python3"
  },
  "language_info": {
   "codemirror_mode": {
    "name": "ipython",
    "version": 3
   },
   "file_extension": ".py",
   "mimetype": "text/x-python",
   "name": "python",
   "nbconvert_exporter": "python",
   "pygments_lexer": "ipython3",
   "version": "3.9.0"
  }
 },
 "nbformat": 4,
 "nbformat_minor": 5
}
