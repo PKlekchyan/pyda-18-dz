{
 "cells": [
  {
   "cell_type": "code",
   "execution_count": 2,
   "id": "independent-relay",
   "metadata": {},
   "outputs": [
    {
     "name": "stdout",
     "output_type": "stream",
     "text": [
      "Введите слово: testing\n",
      "Результат: t\n"
     ]
    }
   ],
   "source": [
    "word = input(\"Введите слово: \")\n",
    "half = len(word)//2\n",
    "if len(word)%2 ==0:\n",
    "    print(\"Результат: \", word[half], word[half+1], sep=\"\")\n",
    "else:\n",
    "    print(\"Результат:\", word[half])"
   ]
  },
  {
   "cell_type": "code",
   "execution_count": null,
   "id": "aggregate-documentary",
   "metadata": {},
   "outputs": [],
   "source": []
  }
 ],
 "metadata": {
  "kernelspec": {
   "display_name": "Python 3",
   "language": "python",
   "name": "python3"
  },
  "language_info": {
   "codemirror_mode": {
    "name": "ipython",
    "version": 3
   },
   "file_extension": ".py",
   "mimetype": "text/x-python",
   "name": "python",
   "nbconvert_exporter": "python",
   "pygments_lexer": "ipython3",
   "version": "3.9.0"
  }
 },
 "nbformat": 4,
 "nbformat_minor": 5
}
