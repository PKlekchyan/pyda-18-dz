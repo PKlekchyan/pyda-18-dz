{
 "cells": [
  {
   "cell_type": "code",
   "execution_count": null,
   "id": "labeled-syndication",
   "metadata": {},
   "outputs": [],
   "source": [
    "summ = 0\n",
    "while True:\n",
    "    num = int(input(\"Введите число: \"))\n",
    "    if num != 0:\n",
    "        summ += num\n",
    "    else:\n",
    "        print(\"Результат: \", summ)\n",
    "        break"
   ]
  }
 ],
 "metadata": {
  "kernelspec": {
   "display_name": "Python 3",
   "language": "python",
   "name": "python3"
  },
  "language_info": {
   "codemirror_mode": {
    "name": "ipython",
    "version": 3
   },
   "file_extension": ".py",
   "mimetype": "text/x-python",
   "name": "python",
   "nbconvert_exporter": "python",
   "pygments_lexer": "ipython3",
   "version": "3.9.0"
  }
 },
 "nbformat": 4,
 "nbformat_minor": 5
}
