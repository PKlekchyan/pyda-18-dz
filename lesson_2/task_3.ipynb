{
 "cells": [
  {
   "cell_type": "code",
   "execution_count": null,
   "id": "theoretical-snake",
   "metadata": {},
   "outputs": [],
   "source": [
    "boys = ['Peter', 'Alex', 'John', 'Arthur', 'Richard']\n",
    "girls = ['Kate', 'Liza', 'Kira', 'Emma', 'Trisha']\n",
    "\n",
    "if len(boys) == len(girls):\n",
    "    arr = list(zip(sorted(boys), sorted(girls)))\n",
    "    print(\"Идеальные пары: \")\n",
    "    for item in arr:\n",
    "        print(item[0], \"и\", item[1])\n",
    "else:\n",
    "    print(\"Внимание, кто-то может остаться без пары!\")"
   ]
  }
 ],
 "metadata": {
  "kernelspec": {
   "display_name": "Python 3",
   "language": "python",
   "name": "python3"
  },
  "language_info": {
   "codemirror_mode": {
    "name": "ipython",
    "version": 3
   },
   "file_extension": ".py",
   "mimetype": "text/x-python",
   "name": "python",
   "nbconvert_exporter": "python",
   "pygments_lexer": "ipython3",
   "version": "3.9.0"
  }
 },
 "nbformat": 4,
 "nbformat_minor": 5
}
