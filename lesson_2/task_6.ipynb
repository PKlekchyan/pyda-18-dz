{
 "cells": [
  {
   "cell_type": "code",
   "execution_count": 1,
   "id": "portable-blackberry",
   "metadata": {},
   "outputs": [
    {
     "name": "stdout",
     "output_type": "stream",
     "text": [
      "Введите числа: 8 9 6 8 2 6 8 2\n",
      "862\n"
     ]
    }
   ],
   "source": [
    "arr = input(\"Введите числа: \").split(\" \")\n",
    "string = \"\"\n",
    "for i in arr:\n",
    "    if arr.count(i) > 1 and i not in string:\n",
    "        string +=i\n",
    "print(string)"
   ]
  },
  {
   "cell_type": "code",
   "execution_count": null,
   "id": "irish-layer",
   "metadata": {},
   "outputs": [],
   "source": []
  }
 ],
 "metadata": {
  "kernelspec": {
   "display_name": "Python 3",
   "language": "python",
   "name": "python3"
  },
  "language_info": {
   "codemirror_mode": {
    "name": "ipython",
    "version": 3
   },
   "file_extension": ".py",
   "mimetype": "text/x-python",
   "name": "python",
   "nbconvert_exporter": "python",
   "pygments_lexer": "ipython3",
   "version": "3.9.0"
  }
 },
 "nbformat": 4,
 "nbformat_minor": 5
}
