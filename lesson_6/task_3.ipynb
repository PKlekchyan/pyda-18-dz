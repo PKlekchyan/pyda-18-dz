{
 "cells": [
  {
   "cell_type": "code",
   "execution_count": 3,
   "id": "sorted-begin",
   "metadata": {},
   "outputs": [
    {
     "name": "stdout",
     "output_type": "stream",
     "text": [
      "['2020-12-29', '2020-12-30', '2020-12-31', '2021-01-01']\n"
     ]
    }
   ],
   "source": [
    "from datetime import datetime, timedelta\n",
    "\n",
    "def array_of_dates(start, end):\n",
    "    array = []\n",
    "    try:\n",
    "        start = datetime.strptime(start, \"%Y-%m-%d\")\n",
    "        end = datetime.strptime(end, \"%Y-%m-%d\")\n",
    "        while start <= end:\n",
    "            array.append(start.strftime(\"%Y-%m-%d\"))\n",
    "            start += timedelta(days=1)\n",
    "        return array\n",
    "    except:\n",
    "        return []\n",
    "\n",
    "start_date = \"2020-12-29\"\n",
    "end_date = \"2021-01-01\"\n",
    "print(array_of_dates(start_date, end_date))"
   ]
  }
 ],
 "metadata": {
  "kernelspec": {
   "display_name": "Python 3",
   "language": "python",
   "name": "python3"
  },
  "language_info": {
   "codemirror_mode": {
    "name": "ipython",
    "version": 3
   },
   "file_extension": ".py",
   "mimetype": "text/x-python",
   "name": "python",
   "nbconvert_exporter": "python",
   "pygments_lexer": "ipython3",
   "version": "3.9.0"
  }
 },
 "nbformat": 4,
 "nbformat_minor": 5
}
