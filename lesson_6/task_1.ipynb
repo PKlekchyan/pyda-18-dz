{
 "cells": [
  {
   "cell_type": "code",
   "execution_count": 16,
   "id": "split-circulation",
   "metadata": {},
   "outputs": [
    {
     "name": "stdout",
     "output_type": "stream",
     "text": [
      "2002-10-02 00:00:00\n",
      "2013-10-11 00:00:00\n",
      "1977-08-18 00:00:00\n"
     ]
    }
   ],
   "source": [
    "from datetime import datetime\n",
    "\n",
    "The_Moscow_time = datetime.strptime(\"Wednesday, October 2, 2002\", \"%A, %B %d, %Y\")\n",
    "The_Guardian = datetime.strptime(\"Friday, 11.10.13\", \"%A, %d.%m.%y\")\n",
    "Daily_News = datetime.strptime(\"Thursday, 18 August 1977\", \"%A, %d %B %Y\")\n",
    "\n",
    "print(The_Moscow_time)\n",
    "print(The_Guardian)\n",
    "print(Daily_News)"
   ]
  },
  {
   "cell_type": "code",
   "execution_count": null,
   "id": "broadband-substitute",
   "metadata": {},
   "outputs": [],
   "source": []
  },
  {
   "cell_type": "code",
   "execution_count": null,
   "id": "arctic-projector",
   "metadata": {},
   "outputs": [],
   "source": []
  }
 ],
 "metadata": {
  "kernelspec": {
   "display_name": "Python 3",
   "language": "python",
   "name": "python3"
  },
  "language_info": {
   "codemirror_mode": {
    "name": "ipython",
    "version": 3
   },
   "file_extension": ".py",
   "mimetype": "text/x-python",
   "name": "python",
   "nbconvert_exporter": "python",
   "pygments_lexer": "ipython3",
   "version": "3.9.0"
  }
 },
 "nbformat": 4,
 "nbformat_minor": 5
}
