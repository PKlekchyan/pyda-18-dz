{
 "cells": [
  {
   "cell_type": "code",
   "execution_count": 2,
   "id": "elementary-maine",
   "metadata": {},
   "outputs": [
    {
     "data": {
      "text/plain": [
       "'A101'"
      ]
     },
     "execution_count": 2,
     "metadata": {},
     "output_type": "execute_result"
    }
   ],
   "source": [
    "DEFAULT_USER_COUNT = 3\n",
    "\n",
    "def delete_and_return_last_user(region, default_list=['A100', 'A101', 'A102']):\n",
    "    element_to_delete = default_list[-1]\n",
    "    default_list.remove(element_to_delete)\n",
    "    return default_list[DEFAULT_USER_COUNT-2]\n",
    "\n",
    "delete_and_return_last_user(1)\n",
    "# delete_and_return_last_user(2)"
   ]
  },
  {
   "cell_type": "code",
   "execution_count": 3,
   "id": "split-perfume",
   "metadata": {},
   "outputs": [],
   "source": [
    "# 1. Ошибка list index out of range означает, что данный индекс списка находится вне диапазона списка,\n",
    "#   т.е в списке такого индекса нет, например список длиной в 3 элемента [\"1\", \"2\", \"3\"], \n",
    "#   а мы пытаемя обратиться к четвертому - [3], выдаст ошибку list index out of range\n",
    "\n",
    "# 2. При первом запуске функция отрабатывает, так как в списке остается два элемента, а возвращаем ID исходя\n",
    "#   из переменной DEFAULT_USER_COUNT, которая не изменяется, каждый раз возвращается элемент с индексом 1 - [1]\n",
    "#  При втором вызове функции наш список сокращается до 1 элемента, и обратиться к [1] уже нельзя, так как его нет.\n",
    "#  От сюда и ошибка list index out of range"
   ]
  },
  {
   "cell_type": "code",
   "execution_count": null,
   "id": "excessive-lawyer",
   "metadata": {},
   "outputs": [],
   "source": []
  }
 ],
 "metadata": {
  "kernelspec": {
   "display_name": "Python 3",
   "language": "python",
   "name": "python3"
  },
  "language_info": {
   "codemirror_mode": {
    "name": "ipython",
    "version": 3
   },
   "file_extension": ".py",
   "mimetype": "text/x-python",
   "name": "python",
   "nbconvert_exporter": "python",
   "pygments_lexer": "ipython3",
   "version": "3.9.0"
  }
 },
 "nbformat": 4,
 "nbformat_minor": 5
}
