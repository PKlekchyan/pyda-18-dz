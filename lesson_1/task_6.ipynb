{
 "cells": [
  {
   "cell_type": "code",
   "execution_count": 3,
   "id": "spoken-population",
   "metadata": {},
   "outputs": [
    {
     "name": "stdout",
     "output_type": "stream",
     "text": [
      "Введите название геометрической фигуры: прямоугольник\n",
      "Введите длину первой стороны: 3\n",
      "Введите длину второй стороны: 2\n",
      "Площадь прямоугольника: 6\n"
     ]
    }
   ],
   "source": [
    "from math import pi, sqrt\n",
    "figure = input(\"Введите название геометрической фигуры: \")\n",
    "if figure.lower() == \"круг\":\n",
    "    r = int(input(\"Введите радиус круга: \"))\n",
    "    print(\"Площадь круга:\", round(pi*(r**2), 2))\n",
    "elif figure.lower() == \"треугольник\":\n",
    "    a, b, c = int(input(\"Введите длину первой стороны: \")), int(input(\"Введите длину второй стороны: \")), int(input(\"Введите длину третьей стороны: \"))\n",
    "    p = (a+b+c)/2\n",
    "    print(\"Площадь треугольника:\", round(sqrt(p*(p-a)*(p-b)*(p-c)), 2))\n",
    "elif figure.lower() == \"прямоугольник\":\n",
    "    a, b = int(input(\"Введите длину первой стороны: \")), int(input(\"Введите длину второй стороны: \"))\n",
    "    print(\"Площадь прямоугольника:\", round(a*b, 2))\n",
    "else:\n",
    "    print(\"Введите корректную геометрическую фигуру: Круг, Треугольник или Прямоугольник\")"
   ]
  },
  {
   "cell_type": "code",
   "execution_count": null,
   "id": "desperate-nowhere",
   "metadata": {},
   "outputs": [],
   "source": []
  }
 ],
 "metadata": {
  "kernelspec": {
   "display_name": "Python 3",
   "language": "python",
   "name": "python3"
  },
  "language_info": {
   "codemirror_mode": {
    "name": "ipython",
    "version": 3
   },
   "file_extension": ".py",
   "mimetype": "text/x-python",
   "name": "python",
   "nbconvert_exporter": "python",
   "pygments_lexer": "ipython3",
   "version": "3.9.0"
  }
 },
 "nbformat": 4,
 "nbformat_minor": 5
}
