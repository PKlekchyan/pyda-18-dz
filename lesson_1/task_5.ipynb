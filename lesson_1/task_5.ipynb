{
 "cells": [
  {
   "cell_type": "code",
   "execution_count": null,
   "id": "noticed-greek",
   "metadata": {},
   "outputs": [],
   "source": [
    "def half_summ(n):\n",
    "    count = 0\n",
    "    while n >= 1:\n",
    "        count += n % 10\n",
    "        n = n // 10\n",
    "    return count\n",
    "\n",
    "num = int(input())\n",
    "first, second = num // 1000, num % 1000\n",
    "\n",
    "if half_summ(first) == half_summ(second):\n",
    "    print(\"Счастливый билет\")\n",
    "else:\n",
    "    print(\"Несчатстливый билет\")"
   ]
  }
 ],
 "metadata": {
  "kernelspec": {
   "display_name": "Python 3",
   "language": "python",
   "name": "python3"
  },
  "language_info": {
   "codemirror_mode": {
    "name": "ipython",
    "version": 3
   },
   "file_extension": ".py",
   "mimetype": "text/x-python",
   "name": "python",
   "nbconvert_exporter": "python",
   "pygments_lexer": "ipython3",
   "version": "3.9.0"
  }
 },
 "nbformat": 4,
 "nbformat_minor": 5
}
