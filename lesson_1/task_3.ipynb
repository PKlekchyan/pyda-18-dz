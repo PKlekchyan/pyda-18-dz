{
 "cells": [
  {
   "cell_type": "code",
   "execution_count": 2,
   "id": "mounted-terrain",
   "metadata": {},
   "outputs": [
    {
     "name": "stdout",
     "output_type": "stream",
     "text": [
      "Введите день: 56\n",
      "Введите месяц: январь\n",
      "Ваш знак зодиака: Водолей\n"
     ]
    }
   ],
   "source": [
    "day = int(input(\"Введите день: \"))\n",
    "month = input(\"Введите месяц: \")\n",
    "if (month.lower() == \"декабрь\" and day >= 23) or (month.lower() == \"январь\" and day <= 20):\n",
    "    print(\"Ваш знак зодиака: Козерог\")\n",
    "elif (month.lower() == \"январь\" and day >= 21) or (month.lower() == \"февраль\" and day <= 19):\n",
    "    print(\"Ваш знак зодиака: Водолей\")\n",
    "elif (month.lower() == \"февраль\" and day >= 20) or (month.lower() == \"март\" and day <= 20):\n",
    "    print(\"Ваш знак зодиака: Рыбы\")\n",
    "elif (month.lower() == \"март\" and day >= 21) or (month.lower() == \"апрель\" and day <= 20):\n",
    "    print(\"Ваш знак зодиака: Овен\")\n",
    "elif (month.lower() == \"апрель\" and day >= 21) or (month.lower() == \"май\" and day <= 21):\n",
    "    print(\"Ваш знак зодиака: Телец\")\n",
    "elif (month.lower() == \"май\" and day >= 22) or (month.lower() == \"июнь\" and day <= 21):\n",
    "    print(\"Ваш знак зодиака: Близнецы\")\n",
    "elif (month.lower() == \"июнь\" and day >= 22) or (month.lower() == \"июль\" and day <= 22):\n",
    "    print(\"Ваш знак зодиака: Рак\")\n",
    "elif (month.lower() == \"июль\" and day >= 23) or (month.lower() == \"август\" and day <= 21):\n",
    "    print(\"Ваш знак зодиака: Лев\")\n",
    "elif (month.lower() == \"август\" and day >= 22) or (month.lower() == \"сентябрь\" and day <= 23):\n",
    "    print(\"Ваш знак зодиака: Дева\")\n",
    "elif (month.lower() == \"сентябрь\" and day >= 24) or (month.lower() == \"октябрь\" and day <= 23):\n",
    "    print(\"Ваш знак зодиака: Весы\")\n",
    "elif (month.lower() == \"октябрь\" and day >= 24) or (month.lower() == \"ноябрь\" and day <= 22):\n",
    "    print(\"Ваш знак зодиака: Скорпион\")\n",
    "elif (month.lower() == \"ноябрь\" and day >= 23) or (month.lower() == \"декабрь\" and day <= 22):\n",
    "    print(\"Ваш знак зодиака: Стрелец\")"
   ]
  }
 ],
 "metadata": {
  "kernelspec": {
   "display_name": "Python 3",
   "language": "python",
   "name": "python3"
  },
  "language_info": {
   "codemirror_mode": {
    "name": "ipython",
    "version": 3
   },
   "file_extension": ".py",
   "mimetype": "text/x-python",
   "name": "python",
   "nbconvert_exporter": "python",
   "pygments_lexer": "ipython3",
   "version": "3.9.0"
  }
 },
 "nbformat": 4,
 "nbformat_minor": 5
}
