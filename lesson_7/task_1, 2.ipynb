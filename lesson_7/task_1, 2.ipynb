{
 "cells": [
  {
   "cell_type": "code",
   "execution_count": 4,
   "id": "sunset-flush",
   "metadata": {},
   "outputs": [],
   "source": [
    "# coding: utf-8\n",
    "import requests\n",
    "\n",
    "class Rate:\n",
    "    def __init__(self, format='value', diff=False):\n",
    "        self.format = format\n",
    "        self.diff = diff\n",
    "\n",
    "    def exchange_rates(self):\n",
    "        \"\"\"\n",
    "       Возвращает ответ сервиса с информацией о валютах в виде:\n",
    "       {\n",
    "           'AMD': {\n",
    "               'CharCode': 'AMD',\n",
    "               'ID': 'R01060',\n",
    "               'Name': 'Армянских драмов',\n",
    "               'Nominal': 100,\n",
    "               'NumCode': '051',\n",
    "               'Previous': 14.103,\n",
    "               'Value': 14.0879\n",
    "               },\n",
    "           ...\n",
    "       }\n",
    "       \"\"\"\n",
    "        r = requests.get('https://www.cbr-xml-daily.ru/daily_json.js')\n",
    "        return r.json()['Valute']\n",
    "\n",
    "    def make_format(self, currency):\n",
    "        \"\"\"\n",
    "        Возвращает информацию о валюте currency в трех вариантах:\n",
    "        - полная информация о валюте при self.format = 'full':\n",
    "        Rate('full').make_format('EUR')\n",
    "        {\n",
    "            'CharCode': 'EUR',\n",
    "            'ID': 'R01239',\n",
    "            'Name': 'Евро',\n",
    "            'Nominal': 1,\n",
    "            'NumCode': '978',\n",
    "            'Previous': 79.6765,\n",
    "            'Value': 79.4966\n",
    "        }\n",
    "        - Курс валюты при diff = False\n",
    "        Rate('value').make_format('EUR')\n",
    "        79.4966\n",
    "        - Изменение валюты по сравнению с прошлым значением при diff = True\n",
    "        \"\"\"\n",
    "        response = self.exchange_rates()\n",
    "        if currency in response:\n",
    "            if self.format == 'full':\n",
    "                return response[currency]\n",
    "            if self.format == 'value':\n",
    "                if self.diff:\n",
    "                    return round(response[currency]['Value'] - response[currency]['Previous'], 4)\n",
    "                return response[currency]['Value']\n",
    "        return 'Error'\n",
    "\n",
    "    def get_max_currency(self):\n",
    "        \"\"\"\n",
    "        Возвращает название валюты с самым большим курсом\n",
    "        \"\"\"\n",
    "        r = self.exchange_rates()\n",
    "        maximum = {\"name\": \"\", \"num\": 0.0}\n",
    "        for k, v in r.items():\n",
    "            if r[k][\"Value\"] > maximum[\"num\"]:\n",
    "                maximum[\"name\"], maximum[\"num\"] = r[k][\"Name\"], r[k][\"Value\"]\n",
    "        return maximum[\"name\"]\n",
    "\n",
    "    def eur(self):\n",
    "        \"\"\"Возвращает курс евро на сегодня в формате self.format\"\"\"\n",
    "        return self.make_format('EUR')\n",
    "\n",
    "    def usd(self):\n",
    "        \"\"\"Возвращает курс доллара на сегодня в формате self.format\"\"\"\n",
    "        return self.make_format('USD')\n",
    "\n",
    "    def AZN(self):\n",
    "        \"\"\"Возвращает курс азербайджанского маната на сегодня в формате self.format\"\"\"\n",
    "        return self.make_format('AZN')\n",
    "\n",
    "r = Rate(format=\"value\")"
   ]
  },
  {
   "cell_type": "code",
   "execution_count": 5,
   "id": "strategic-colorado",
   "metadata": {},
   "outputs": [
    {
     "data": {
      "text/plain": [
       "90.3743"
      ]
     },
     "execution_count": 5,
     "metadata": {},
     "output_type": "execute_result"
    }
   ],
   "source": [
    "r.eur()"
   ]
  },
  {
   "cell_type": "code",
   "execution_count": null,
   "id": "catholic-penguin",
   "metadata": {},
   "outputs": [],
   "source": []
  }
 ],
 "metadata": {
  "kernelspec": {
   "display_name": "Python 3",
   "language": "python",
   "name": "python3"
  },
  "language_info": {
   "codemirror_mode": {
    "name": "ipython",
    "version": 3
   },
   "file_extension": ".py",
   "mimetype": "text/x-python",
   "name": "python",
   "nbconvert_exporter": "python",
   "pygments_lexer": "ipython3",
   "version": "3.9.0"
  }
 },
 "nbformat": 4,
 "nbformat_minor": 5
}
