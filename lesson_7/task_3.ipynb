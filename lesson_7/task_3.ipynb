{
 "cells": [
  {
   "cell_type": "code",
   "execution_count": null,
   "id": "usual-admission",
   "metadata": {},
   "outputs": [],
   "source": [
    "class Employee:\n",
    "    def __init__(self, name, seniority):\n",
    "        self.name = name\n",
    "        self.seniority = seniority\n",
    "\n",
    "        self.grade = 1\n",
    "\n",
    "    def grade_up(self):\n",
    "        \"\"\"Повышает уровень сотрудника\"\"\"\n",
    "        self.grade += 1\n",
    "\n",
    "    def publish_grade(self):\n",
    "        \"\"\"Публикация результатов аккредитации сотрудников\"\"\"\n",
    "        print(self.name, self.grade)\n",
    "\n",
    "    def check_if_it_is_time_for_upgrade(self):\n",
    "        pass\n",
    "\n",
    "class Designer(Employee):\n",
    "    def __init__(self, name, seniority, prizes=2):\n",
    "        super().__init__(name, seniority)\n",
    "        self.prizes = prizes\n",
    "\n",
    "    def check_if_it_is_time_for_upgrade(self):\n",
    "        self.seniority +=1\n",
    "        if (self.seniority + 2*self.prizes) % 7 == 0:\n",
    "            self.grade_up()\n",
    "        return self.publish_grade()\n",
    "\n",
    "    def get_prize(self):\n",
    "        \"\"\"Если дизайнер получит международную премию\"\"\"\n",
    "        self.prizes +=1"
   ]
  }
 ],
 "metadata": {
  "kernelspec": {
   "display_name": "Python 3",
   "language": "python",
   "name": "python3"
  },
  "language_info": {
   "codemirror_mode": {
    "name": "ipython",
    "version": 3
   },
   "file_extension": ".py",
   "mimetype": "text/x-python",
   "name": "python",
   "nbconvert_exporter": "python",
   "pygments_lexer": "ipython3",
   "version": "3.9.0"
  }
 },
 "nbformat": 4,
 "nbformat_minor": 5
}
