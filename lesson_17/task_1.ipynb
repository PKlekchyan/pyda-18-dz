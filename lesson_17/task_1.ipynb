{
 "cells": [
  {
   "cell_type": "code",
   "execution_count": 1,
   "id": "least-oasis",
   "metadata": {},
   "outputs": [],
   "source": [
    "from sklearn.linear_model import LinearRegression\n",
    "from sklearn.model_selection import train_test_split\n",
    "import pandas as pd\n",
    "import matplotlib.pyplot as plt\n",
    "import seaborn as sns"
   ]
  },
  {
   "cell_type": "code",
   "execution_count": 2,
   "id": "manual-interim",
   "metadata": {
    "scrolled": true
   },
   "outputs": [
    {
     "data": {
      "text/html": [
       "<div>\n",
       "<style scoped>\n",
       "    .dataframe tbody tr th:only-of-type {\n",
       "        vertical-align: middle;\n",
       "    }\n",
       "\n",
       "    .dataframe tbody tr th {\n",
       "        vertical-align: top;\n",
       "    }\n",
       "\n",
       "    .dataframe thead th {\n",
       "        text-align: right;\n",
       "    }\n",
       "</style>\n",
       "<table border=\"1\" class=\"dataframe\">\n",
       "  <thead>\n",
       "    <tr style=\"text-align: right;\">\n",
       "      <th></th>\n",
       "      <th>Unnamed: 0</th>\n",
       "      <th>location</th>\n",
       "      <th>town</th>\n",
       "      <th>mortality</th>\n",
       "      <th>hardness</th>\n",
       "    </tr>\n",
       "  </thead>\n",
       "  <tbody>\n",
       "    <tr>\n",
       "      <th>0</th>\n",
       "      <td>1</td>\n",
       "      <td>South</td>\n",
       "      <td>Bath</td>\n",
       "      <td>1247</td>\n",
       "      <td>105</td>\n",
       "    </tr>\n",
       "    <tr>\n",
       "      <th>1</th>\n",
       "      <td>2</td>\n",
       "      <td>North</td>\n",
       "      <td>Birkenhead</td>\n",
       "      <td>1668</td>\n",
       "      <td>17</td>\n",
       "    </tr>\n",
       "    <tr>\n",
       "      <th>2</th>\n",
       "      <td>3</td>\n",
       "      <td>South</td>\n",
       "      <td>Birmingham</td>\n",
       "      <td>1466</td>\n",
       "      <td>5</td>\n",
       "    </tr>\n",
       "    <tr>\n",
       "      <th>3</th>\n",
       "      <td>4</td>\n",
       "      <td>North</td>\n",
       "      <td>Blackburn</td>\n",
       "      <td>1800</td>\n",
       "      <td>14</td>\n",
       "    </tr>\n",
       "    <tr>\n",
       "      <th>4</th>\n",
       "      <td>5</td>\n",
       "      <td>North</td>\n",
       "      <td>Blackpool</td>\n",
       "      <td>1609</td>\n",
       "      <td>18</td>\n",
       "    </tr>\n",
       "    <tr>\n",
       "      <th>...</th>\n",
       "      <td>...</td>\n",
       "      <td>...</td>\n",
       "      <td>...</td>\n",
       "      <td>...</td>\n",
       "      <td>...</td>\n",
       "    </tr>\n",
       "    <tr>\n",
       "      <th>56</th>\n",
       "      <td>57</td>\n",
       "      <td>South</td>\n",
       "      <td>Walsall</td>\n",
       "      <td>1527</td>\n",
       "      <td>60</td>\n",
       "    </tr>\n",
       "    <tr>\n",
       "      <th>57</th>\n",
       "      <td>58</td>\n",
       "      <td>South</td>\n",
       "      <td>West Bromwich</td>\n",
       "      <td>1627</td>\n",
       "      <td>53</td>\n",
       "    </tr>\n",
       "    <tr>\n",
       "      <th>58</th>\n",
       "      <td>59</td>\n",
       "      <td>South</td>\n",
       "      <td>West Ham</td>\n",
       "      <td>1486</td>\n",
       "      <td>122</td>\n",
       "    </tr>\n",
       "    <tr>\n",
       "      <th>59</th>\n",
       "      <td>60</td>\n",
       "      <td>South</td>\n",
       "      <td>Wolverhampton</td>\n",
       "      <td>1485</td>\n",
       "      <td>81</td>\n",
       "    </tr>\n",
       "    <tr>\n",
       "      <th>60</th>\n",
       "      <td>61</td>\n",
       "      <td>North</td>\n",
       "      <td>York</td>\n",
       "      <td>1378</td>\n",
       "      <td>71</td>\n",
       "    </tr>\n",
       "  </tbody>\n",
       "</table>\n",
       "<p>61 rows × 5 columns</p>\n",
       "</div>"
      ],
      "text/plain": [
       "    Unnamed: 0 location           town  mortality  hardness\n",
       "0            1    South           Bath       1247       105\n",
       "1            2    North     Birkenhead       1668        17\n",
       "2            3    South     Birmingham       1466         5\n",
       "3            4    North      Blackburn       1800        14\n",
       "4            5    North      Blackpool       1609        18\n",
       "..         ...      ...            ...        ...       ...\n",
       "56          57    South        Walsall       1527        60\n",
       "57          58    South  West Bromwich       1627        53\n",
       "58          59    South       West Ham       1486       122\n",
       "59          60    South  Wolverhampton       1485        81\n",
       "60          61    North           York       1378        71\n",
       "\n",
       "[61 rows x 5 columns]"
      ]
     },
     "execution_count": 2,
     "metadata": {},
     "output_type": "execute_result"
    }
   ],
   "source": [
    "df = pd.read_csv('water.csv', encoding=\"utf-8\")\n",
    "df"
   ]
  },
  {
   "cell_type": "markdown",
   "id": "twenty-conducting",
   "metadata": {},
   "source": [
    "## Точечный график жесткости воды к смертности"
   ]
  },
  {
   "cell_type": "code",
   "execution_count": 3,
   "id": "sustained-technique",
   "metadata": {
    "scrolled": false
   },
   "outputs": [
    {
     "data": {
      "text/plain": [
       "<AxesSubplot:xlabel='mortality', ylabel='hardness'>"
      ]
     },
     "execution_count": 3,
     "metadata": {},
     "output_type": "execute_result"
    },
    {
     "data": {
      "image/png": "[encoded data removed]",
      "text/plain": [
       "<Figure size 432x288 with 1 Axes>"
      ]
     },
     "metadata": {
      "needs_background": "light"
     },
     "output_type": "display_data"
    }
   ],
   "source": [
    "df.plot(kind='scatter', x='mortality', y='hardness')"
   ]
  },
  {
   "cell_type": "markdown",
   "id": "impaired-found",
   "metadata": {},
   "source": [
    "Проглядывается обратная зависимость, чем меньше жесткость воды, тем больше смертность. Не наблюдается выбросов,\n",
    "Которые могут исказить коэф Пирсона "
   ]
  },
  {
   "cell_type": "markdown",
   "id": "breeding-fortune",
   "metadata": {},
   "source": [
    "## Коэффициент корреляции Пирсона"
   ]
  },
  {
   "cell_type": "code",
   "execution_count": 4,
   "id": "center-musician",
   "metadata": {},
   "outputs": [
    {
     "data": {
      "text/html": [
       "<div>\n",
       "<style scoped>\n",
       "    .dataframe tbody tr th:only-of-type {\n",
       "        vertical-align: middle;\n",
       "    }\n",
       "\n",
       "    .dataframe tbody tr th {\n",
       "        vertical-align: top;\n",
       "    }\n",
       "\n",
       "    .dataframe thead th {\n",
       "        text-align: right;\n",
       "    }\n",
       "</style>\n",
       "<table border=\"1\" class=\"dataframe\">\n",
       "  <thead>\n",
       "    <tr style=\"text-align: right;\">\n",
       "      <th></th>\n",
       "      <th>mortality</th>\n",
       "      <th>hardness</th>\n",
       "    </tr>\n",
       "  </thead>\n",
       "  <tbody>\n",
       "    <tr>\n",
       "      <th>mortality</th>\n",
       "      <td>1.000000</td>\n",
       "      <td>-0.654849</td>\n",
       "    </tr>\n",
       "    <tr>\n",
       "      <th>hardness</th>\n",
       "      <td>-0.654849</td>\n",
       "      <td>1.000000</td>\n",
       "    </tr>\n",
       "  </tbody>\n",
       "</table>\n",
       "</div>"
      ],
      "text/plain": [
       "           mortality  hardness\n",
       "mortality   1.000000 -0.654849\n",
       "hardness   -0.654849  1.000000"
      ]
     },
     "execution_count": 4,
     "metadata": {},
     "output_type": "execute_result"
    }
   ],
   "source": [
    "df[['mortality', 'hardness']].corr()"
   ]
  },
  {
   "cell_type": "markdown",
   "id": "passive-disorder",
   "metadata": {},
   "source": [
    "Видим, что по Пирсону есть обратная взаимосвязь между жесткость воды и смертностью"
   ]
  },
  {
   "cell_type": "markdown",
   "id": "coastal-cisco",
   "metadata": {},
   "source": [
    "## Коэффициент корреляции Спирмена"
   ]
  },
  {
   "cell_type": "code",
   "execution_count": 5,
   "id": "irish-bailey",
   "metadata": {},
   "outputs": [
    {
     "data": {
      "text/html": [
       "<div>\n",
       "<style scoped>\n",
       "    .dataframe tbody tr th:only-of-type {\n",
       "        vertical-align: middle;\n",
       "    }\n",
       "\n",
       "    .dataframe tbody tr th {\n",
       "        vertical-align: top;\n",
       "    }\n",
       "\n",
       "    .dataframe thead th {\n",
       "        text-align: right;\n",
       "    }\n",
       "</style>\n",
       "<table border=\"1\" class=\"dataframe\">\n",
       "  <thead>\n",
       "    <tr style=\"text-align: right;\">\n",
       "      <th></th>\n",
       "      <th>mortality</th>\n",
       "      <th>hardness</th>\n",
       "    </tr>\n",
       "  </thead>\n",
       "  <tbody>\n",
       "    <tr>\n",
       "      <th>mortality</th>\n",
       "      <td>1.000000</td>\n",
       "      <td>-0.631665</td>\n",
       "    </tr>\n",
       "    <tr>\n",
       "      <th>hardness</th>\n",
       "      <td>-0.631665</td>\n",
       "      <td>1.000000</td>\n",
       "    </tr>\n",
       "  </tbody>\n",
       "</table>\n",
       "</div>"
      ],
      "text/plain": [
       "           mortality  hardness\n",
       "mortality   1.000000 -0.631665\n",
       "hardness   -0.631665  1.000000"
      ]
     },
     "execution_count": 5,
     "metadata": {},
     "output_type": "execute_result"
    }
   ],
   "source": [
    "df[['mortality', 'hardness']].corr(method='spearman')"
   ]
  },
  {
   "cell_type": "markdown",
   "id": "absent-visiting",
   "metadata": {},
   "source": [
    "По Спирмену видим достаточно близкий результат с корреляцией Пирсона"
   ]
  },
  {
   "cell_type": "markdown",
   "id": "photographic-cologne",
   "metadata": {},
   "source": [
    "## Построение модели линейной регрессии"
   ]
  },
  {
   "cell_type": "code",
   "execution_count": 6,
   "id": "disturbed-polls",
   "metadata": {},
   "outputs": [],
   "source": [
    "x = df[['mortality']]\n",
    "y = df['hardness']"
   ]
  },
  {
   "cell_type": "code",
   "execution_count": 7,
   "id": "curious-chest",
   "metadata": {},
   "outputs": [],
   "source": [
    "x_train, x_test, y_train, y_test = train_test_split(x, y, test_size=0.50, random_state=10)"
   ]
  },
  {
   "cell_type": "markdown",
   "id": "alone-jurisdiction",
   "metadata": {},
   "source": [
    "Разделил тренировочные данные и данные для теста пополам, так как очень мало значений"
   ]
  },
  {
   "cell_type": "code",
   "execution_count": 8,
   "id": "documentary-rover",
   "metadata": {},
   "outputs": [],
   "source": [
    "model = LinearRegression()"
   ]
  },
  {
   "cell_type": "code",
   "execution_count": 9,
   "id": "better-kansas",
   "metadata": {},
   "outputs": [
    {
     "data": {
      "text/plain": [
       "LinearRegression()"
      ]
     },
     "execution_count": 9,
     "metadata": {},
     "output_type": "execute_result"
    }
   ],
   "source": [
    "model.fit(x_train, y_train)"
   ]
  },
  {
   "cell_type": "code",
   "execution_count": 10,
   "id": "congressional-breed",
   "metadata": {},
   "outputs": [
    {
     "data": {
      "text/plain": [
       "array([-0.13253566])"
      ]
     },
     "execution_count": 10,
     "metadata": {},
     "output_type": "execute_result"
    }
   ],
   "source": [
    "model.coef_"
   ]
  },
  {
   "cell_type": "code",
   "execution_count": 11,
   "id": "equivalent-sheriff",
   "metadata": {},
   "outputs": [
    {
     "data": {
      "text/plain": [
       "251.55708958070613"
      ]
     },
     "execution_count": 11,
     "metadata": {},
     "output_type": "execute_result"
    }
   ],
   "source": [
    "model.intercept_"
   ]
  },
  {
   "cell_type": "code",
   "execution_count": 12,
   "id": "higher-desert",
   "metadata": {},
   "outputs": [
    {
     "data": {
      "text/plain": [
       "array([ 23.19814451,  57.25980957,  40.69285186,  12.99289857,\n",
       "        12.06514893,  84.69469153,  84.56215587,  42.9459581 ,\n",
       "        70.11576875, -11.79127017,  45.19906435,  95.82768711,\n",
       "        62.29616471,  65.74209191,  68.79041213,  54.60909633,\n",
       "        79.39326506,  60.17559412,  54.60909633,  34.19860443,\n",
       "        67.06744853,  87.74301175,  25.98139341,  76.87508749,\n",
       "        38.30720995,  30.48760591,  50.2354195 ,  42.01820847,\n",
       "        20.67996694,  36.18663936,  58.58516618])"
      ]
     },
     "execution_count": 12,
     "metadata": {},
     "output_type": "execute_result"
    }
   ],
   "source": [
    "y_pred = model.predict(x_test)\n",
    "y_pred"
   ]
  },
  {
   "cell_type": "markdown",
   "id": "parental-crown",
   "metadata": {},
   "source": [
    "## Коэффициент детерминации"
   ]
  },
  {
   "cell_type": "code",
   "execution_count": 13,
   "id": "southeast-industry",
   "metadata": {},
   "outputs": [
    {
     "data": {
      "text/plain": [
       "0.38260090997814"
      ]
     },
     "execution_count": 13,
     "metadata": {},
     "output_type": "execute_result"
    }
   ],
   "source": [
    "model.score(x_test, y_test)"
   ]
  },
  {
   "cell_type": "markdown",
   "id": "imposed-sewing",
   "metadata": {},
   "source": [
    "Коэф детерминации оставляет желать лучшего, очень мало данных для построения более точной модели. "
   ]
  },
  {
   "cell_type": "markdown",
   "id": "dress-anaheim",
   "metadata": {},
   "source": [
    "## Визуализируем прогнозные данные"
   ]
  },
  {
   "cell_type": "code",
   "execution_count": 14,
   "id": "outstanding-borough",
   "metadata": {},
   "outputs": [
    {
     "data": {
      "text/plain": [
       "[<matplotlib.lines.Line2D at 0x17f43273bb0>]"
      ]
     },
     "execution_count": 14,
     "metadata": {},
     "output_type": "execute_result"
    },
    {
     "data": {
      "image/png": "[encoded data removed]",
      "text/plain": [
       "<Figure size 432x288 with 1 Axes>"
      ]
     },
     "metadata": {
      "needs_background": "light"
     },
     "output_type": "display_data"
    }
   ],
   "source": [
    "plt.scatter(x_test, y_test)\n",
    "plt.plot(x_test, y_pred, c='r')"
   ]
  },
  {
   "cell_type": "markdown",
   "id": "efficient-holiday",
   "metadata": {},
   "source": [
    "## График остатков"
   ]
  },
  {
   "cell_type": "code",
   "execution_count": 38,
   "id": "wicked-yemen",
   "metadata": {},
   "outputs": [
    {
     "data": {
      "image/png": "[encoded data removed]",
      "text/plain": [
       "<Figure size 432x288 with 1 Axes>"
      ]
     },
     "metadata": {
      "needs_background": "light"
     },
     "output_type": "display_data"
    }
   ],
   "source": [
    "residuals = y_test-y_pred\n",
    "plt.scatter(residuals, y_pred)\n",
    "plt.show()"
   ]
  },
  {
   "cell_type": "markdown",
   "id": "tested-suite",
   "metadata": {},
   "source": [
    "# Разбиение DataSetа на Южные и Северные города"
   ]
  },
  {
   "cell_type": "code",
   "execution_count": 16,
   "id": "inner-upper",
   "metadata": {},
   "outputs": [],
   "source": [
    "df_south = df[df['location'] == 'South']\n",
    "df_north = df[df['location'] == 'North']"
   ]
  },
  {
   "cell_type": "markdown",
   "id": "statewide-patent",
   "metadata": {},
   "source": [
    "df.groupby('location').plot(kind='scatter', x='mortality', y='hardness') \n",
    "\n",
    "Можно было сгруппровать по локации, но в таком случае даже при визуализации не подписать Заголовок. \n",
    "Поэтому решил просто разбить на два ДатаФрейма"
   ]
  },
  {
   "cell_type": "markdown",
   "id": "latest-meditation",
   "metadata": {},
   "source": [
    "## Точечный график"
   ]
  },
  {
   "cell_type": "code",
   "execution_count": 17,
   "id": "martial-issue",
   "metadata": {},
   "outputs": [
    {
     "data": {
      "text/plain": [
       "<AxesSubplot:title={'center':'North'}, xlabel='mortality', ylabel='hardness'>"
      ]
     },
     "execution_count": 17,
     "metadata": {},
     "output_type": "execute_result"
    },
    {
     "data": {
      "image/png": "[encoded data removed]",
      "text/plain": [
       "<Figure size 432x288 with 1 Axes>"
      ]
     },
     "metadata": {
      "needs_background": "light"
     },
     "output_type": "display_data"
    },
    {
     "data": {
      "image/png": "[encoded data removed]",
      "text/plain": [
       "<Figure size 432x288 with 1 Axes>"
      ]
     },
     "metadata": {
      "needs_background": "light"
     },
     "output_type": "display_data"
    }
   ],
   "source": [
    "df_south.plot(kind='scatter', x='mortality', y='hardness', title='South')\n",
    "df_north.plot(kind='scatter', x='mortality', y='hardness', title='North')"
   ]
  },
  {
   "cell_type": "markdown",
   "id": "liable-active",
   "metadata": {},
   "source": [
    "В отдельной визуализации уже не так просматривается взаимосвязь между жесткостью воды и смертностью. Но всеже кажется больше выраженной в Южных городах"
   ]
  },
  {
   "cell_type": "markdown",
   "id": "alert-credits",
   "metadata": {},
   "source": [
    "## Коэффициет корреляции Пирсона"
   ]
  },
  {
   "cell_type": "code",
   "execution_count": 18,
   "id": "reported-silly",
   "metadata": {},
   "outputs": [
    {
     "data": {
      "text/html": [
       "<div>\n",
       "<style scoped>\n",
       "    .dataframe tbody tr th:only-of-type {\n",
       "        vertical-align: middle;\n",
       "    }\n",
       "\n",
       "    .dataframe tbody tr th {\n",
       "        vertical-align: top;\n",
       "    }\n",
       "\n",
       "    .dataframe thead th {\n",
       "        text-align: right;\n",
       "    }\n",
       "</style>\n",
       "<table border=\"1\" class=\"dataframe\">\n",
       "  <thead>\n",
       "    <tr style=\"text-align: right;\">\n",
       "      <th></th>\n",
       "      <th>mortality</th>\n",
       "      <th>hardness</th>\n",
       "    </tr>\n",
       "  </thead>\n",
       "  <tbody>\n",
       "    <tr>\n",
       "      <th>mortality</th>\n",
       "      <td>1.000000</td>\n",
       "      <td>-0.602153</td>\n",
       "    </tr>\n",
       "    <tr>\n",
       "      <th>hardness</th>\n",
       "      <td>-0.602153</td>\n",
       "      <td>1.000000</td>\n",
       "    </tr>\n",
       "  </tbody>\n",
       "</table>\n",
       "</div>"
      ],
      "text/plain": [
       "           mortality  hardness\n",
       "mortality   1.000000 -0.602153\n",
       "hardness   -0.602153  1.000000"
      ]
     },
     "execution_count": 18,
     "metadata": {},
     "output_type": "execute_result"
    }
   ],
   "source": [
    "df_south[['mortality', 'hardness']].corr()"
   ]
  },
  {
   "cell_type": "code",
   "execution_count": 19,
   "id": "deluxe-hamilton",
   "metadata": {},
   "outputs": [
    {
     "data": {
      "text/html": [
       "<div>\n",
       "<style scoped>\n",
       "    .dataframe tbody tr th:only-of-type {\n",
       "        vertical-align: middle;\n",
       "    }\n",
       "\n",
       "    .dataframe tbody tr th {\n",
       "        vertical-align: top;\n",
       "    }\n",
       "\n",
       "    .dataframe thead th {\n",
       "        text-align: right;\n",
       "    }\n",
       "</style>\n",
       "<table border=\"1\" class=\"dataframe\">\n",
       "  <thead>\n",
       "    <tr style=\"text-align: right;\">\n",
       "      <th></th>\n",
       "      <th>mortality</th>\n",
       "      <th>hardness</th>\n",
       "    </tr>\n",
       "  </thead>\n",
       "  <tbody>\n",
       "    <tr>\n",
       "      <th>mortality</th>\n",
       "      <td>1.000000</td>\n",
       "      <td>-0.368598</td>\n",
       "    </tr>\n",
       "    <tr>\n",
       "      <th>hardness</th>\n",
       "      <td>-0.368598</td>\n",
       "      <td>1.000000</td>\n",
       "    </tr>\n",
       "  </tbody>\n",
       "</table>\n",
       "</div>"
      ],
      "text/plain": [
       "           mortality  hardness\n",
       "mortality   1.000000 -0.368598\n",
       "hardness   -0.368598  1.000000"
      ]
     },
     "execution_count": 19,
     "metadata": {},
     "output_type": "execute_result"
    }
   ],
   "source": [
    "df_north[['mortality', 'hardness']].corr()"
   ]
  },
  {
   "cell_type": "markdown",
   "id": "correct-terrorism",
   "metadata": {},
   "source": [
    "## Коэффициет корреляции Спирмена"
   ]
  },
  {
   "cell_type": "code",
   "execution_count": 20,
   "id": "early-teaching",
   "metadata": {},
   "outputs": [
    {
     "data": {
      "text/html": [
       "<div>\n",
       "<style scoped>\n",
       "    .dataframe tbody tr th:only-of-type {\n",
       "        vertical-align: middle;\n",
       "    }\n",
       "\n",
       "    .dataframe tbody tr th {\n",
       "        vertical-align: top;\n",
       "    }\n",
       "\n",
       "    .dataframe thead th {\n",
       "        text-align: right;\n",
       "    }\n",
       "</style>\n",
       "<table border=\"1\" class=\"dataframe\">\n",
       "  <thead>\n",
       "    <tr style=\"text-align: right;\">\n",
       "      <th></th>\n",
       "      <th>mortality</th>\n",
       "      <th>hardness</th>\n",
       "    </tr>\n",
       "  </thead>\n",
       "  <tbody>\n",
       "    <tr>\n",
       "      <th>mortality</th>\n",
       "      <td>1.000000</td>\n",
       "      <td>-0.595723</td>\n",
       "    </tr>\n",
       "    <tr>\n",
       "      <th>hardness</th>\n",
       "      <td>-0.595723</td>\n",
       "      <td>1.000000</td>\n",
       "    </tr>\n",
       "  </tbody>\n",
       "</table>\n",
       "</div>"
      ],
      "text/plain": [
       "           mortality  hardness\n",
       "mortality   1.000000 -0.595723\n",
       "hardness   -0.595723  1.000000"
      ]
     },
     "execution_count": 20,
     "metadata": {},
     "output_type": "execute_result"
    }
   ],
   "source": [
    "df_south[['mortality', 'hardness']].corr(method='spearman')"
   ]
  },
  {
   "cell_type": "code",
   "execution_count": 21,
   "id": "centered-halifax",
   "metadata": {},
   "outputs": [
    {
     "data": {
      "text/html": [
       "<div>\n",
       "<style scoped>\n",
       "    .dataframe tbody tr th:only-of-type {\n",
       "        vertical-align: middle;\n",
       "    }\n",
       "\n",
       "    .dataframe tbody tr th {\n",
       "        vertical-align: top;\n",
       "    }\n",
       "\n",
       "    .dataframe thead th {\n",
       "        text-align: right;\n",
       "    }\n",
       "</style>\n",
       "<table border=\"1\" class=\"dataframe\">\n",
       "  <thead>\n",
       "    <tr style=\"text-align: right;\">\n",
       "      <th></th>\n",
       "      <th>mortality</th>\n",
       "      <th>hardness</th>\n",
       "    </tr>\n",
       "  </thead>\n",
       "  <tbody>\n",
       "    <tr>\n",
       "      <th>mortality</th>\n",
       "      <td>1.000000</td>\n",
       "      <td>-0.404208</td>\n",
       "    </tr>\n",
       "    <tr>\n",
       "      <th>hardness</th>\n",
       "      <td>-0.404208</td>\n",
       "      <td>1.000000</td>\n",
       "    </tr>\n",
       "  </tbody>\n",
       "</table>\n",
       "</div>"
      ],
      "text/plain": [
       "           mortality  hardness\n",
       "mortality   1.000000 -0.404208\n",
       "hardness   -0.404208  1.000000"
      ]
     },
     "execution_count": 21,
     "metadata": {},
     "output_type": "execute_result"
    }
   ],
   "source": [
    "df_north[['mortality', 'hardness']].corr(method='spearman')"
   ]
  },
  {
   "cell_type": "markdown",
   "id": "aggregate-oriental",
   "metadata": {},
   "source": [
    "По значения корреляций можно сделать вывод, что в Южных городах взаимосвязь между жесткостью воды и смертностью больше."
   ]
  },
  {
   "cell_type": "markdown",
   "id": "subjective-radio",
   "metadata": {},
   "source": [
    "## Построение моделей линейной регрессии для каждого региона"
   ]
  },
  {
   "cell_type": "code",
   "execution_count": 22,
   "id": "married-crest",
   "metadata": {},
   "outputs": [],
   "source": [
    "x_south = df_south[['mortality']]\n",
    "y_south = df_south['hardness']\n",
    "\n",
    "x_north = df_north[['mortality']]\n",
    "y_north = df_north['hardness']"
   ]
  },
  {
   "cell_type": "code",
   "execution_count": 23,
   "id": "egyptian-filter",
   "metadata": {},
   "outputs": [],
   "source": [
    "x_south_train, x_south_test, y_south_train, y_south_test = train_test_split(x_south, y_south, test_size=0.50, random_state=15)\n",
    "x_north_train, x_north_test, y_north_train, y_north_test = train_test_split(x_north, y_north, test_size=0.50, random_state=15)"
   ]
  },
  {
   "cell_type": "code",
   "execution_count": 24,
   "id": "confirmed-study",
   "metadata": {},
   "outputs": [],
   "source": [
    "model_south = LinearRegression()\n",
    "model_north = LinearRegression()"
   ]
  },
  {
   "cell_type": "code",
   "execution_count": 25,
   "id": "victorian-tanzania",
   "metadata": {},
   "outputs": [
    {
     "data": {
      "text/plain": [
       "LinearRegression()"
      ]
     },
     "execution_count": 25,
     "metadata": {},
     "output_type": "execute_result"
    }
   ],
   "source": [
    "model_south.fit(x_south_train, y_south_train)\n",
    "model_north.fit(x_north_train, y_north_train)"
   ]
  },
  {
   "cell_type": "code",
   "execution_count": 26,
   "id": "suspected-london",
   "metadata": {},
   "outputs": [
    {
     "data": {
      "text/plain": [
       "array([ 52.28610803,  27.31944322,  85.39792591,  55.82747893,\n",
       "        83.98137755,  52.46317658,  73.00312777,  74.77381322,\n",
       "        45.0262977 ,  92.4806677 ,  92.30359915,  68.93055124,\n",
       "       121.34284049])"
      ]
     },
     "execution_count": 26,
     "metadata": {},
     "output_type": "execute_result"
    }
   ],
   "source": [
    "y_south_pred = model_south.predict(x_south_test)\n",
    "y_south_pred"
   ]
  },
  {
   "cell_type": "code",
   "execution_count": 27,
   "id": "subject-supervision",
   "metadata": {},
   "outputs": [
    {
     "data": {
      "text/plain": [
       "array([-16.81767353,  16.83009016,  30.26541629,  47.74322994,\n",
       "         8.74511514,  32.88114351,  49.7644737 ,  17.06788354,\n",
       "         5.41600777,  28.12527585,  55.59041158,  10.76635889,\n",
       "        26.22292878,  34.18900711,  16.2356067 ,  15.76001993,\n",
       "        49.64557701,   4.58373093])"
      ]
     },
     "execution_count": 27,
     "metadata": {},
     "output_type": "execute_result"
    }
   ],
   "source": [
    "y_north_pred = model_north.predict(x_north_test)\n",
    "y_north_pred"
   ]
  },
  {
   "cell_type": "markdown",
   "id": "industrial-joint",
   "metadata": {},
   "source": [
    "## Коэффициент детерминации"
   ]
  },
  {
   "cell_type": "code",
   "execution_count": 28,
   "id": "solar-corner",
   "metadata": {},
   "outputs": [
    {
     "data": {
      "text/plain": [
       "0.3201363043898834"
      ]
     },
     "execution_count": 28,
     "metadata": {},
     "output_type": "execute_result"
    }
   ],
   "source": [
    "model_south.score(x_south_test, y_south_test)"
   ]
  },
  {
   "cell_type": "code",
   "execution_count": 29,
   "id": "noble-frederick",
   "metadata": {},
   "outputs": [
    {
     "data": {
      "text/plain": [
       "-0.2283919897061677"
      ]
     },
     "execution_count": 29,
     "metadata": {},
     "output_type": "execute_result"
    }
   ],
   "source": [
    "model_north.score(x_north_test, y_north_test)"
   ]
  },
  {
   "cell_type": "markdown",
   "id": "downtown-wagon",
   "metadata": {},
   "source": [
    "Видим, что наша модель по Северным городам хуже SStot, она никак не объясняет зависимость данных"
   ]
  },
  {
   "cell_type": "markdown",
   "id": "centered-steps",
   "metadata": {},
   "source": [
    "## Визуализируем прогнозные данные"
   ]
  },
  {
   "cell_type": "code",
   "execution_count": 30,
   "id": "united-default",
   "metadata": {},
   "outputs": [
    {
     "data": {
      "text/plain": [
       "[<matplotlib.lines.Line2D at 0x17f432c8b80>]"
      ]
     },
     "execution_count": 30,
     "metadata": {},
     "output_type": "execute_result"
    },
    {
     "data": {
      "image/png": "[encoded data removed]",
      "text/plain": [
       "<Figure size 432x288 with 1 Axes>"
      ]
     },
     "metadata": {
      "needs_background": "light"
     },
     "output_type": "display_data"
    }
   ],
   "source": [
    "plt.scatter(x_south_test, y_south_test)\n",
    "plt.title('South')\n",
    "plt.plot(x_south_test, y_south_pred, c='r')"
   ]
  },
  {
   "cell_type": "code",
   "execution_count": 31,
   "id": "advanced-photograph",
   "metadata": {},
   "outputs": [
    {
     "data": {
      "text/plain": [
       "[<matplotlib.lines.Line2D at 0x17f433aa970>]"
      ]
     },
     "execution_count": 31,
     "metadata": {},
     "output_type": "execute_result"
    },
    {
     "data": {
      "image/png": "[encoded data removed]",
      "text/plain": [
       "<Figure size 432x288 with 1 Axes>"
      ]
     },
     "metadata": {
      "needs_background": "light"
     },
     "output_type": "display_data"
    }
   ],
   "source": [
    "plt.scatter(x_north_test, y_north_test)\n",
    "plt.title('North')\n",
    "plt.plot(x_north_test, y_north_pred, c='r')"
   ]
  },
  {
   "cell_type": "markdown",
   "id": "supreme-barcelona",
   "metadata": {},
   "source": [
    "Заключение по группам:\n",
    "    Очень мало данных, при изменении random_state мы получаем совершенно разные значения того же коэффициента детерминации.\n",
    "    Поэтому сказать точно про разницу моделей Южных и Северных городов не могу, но в любом случае в Южных городах взаимосвязь сильнее"
   ]
  },
  {
   "cell_type": "markdown",
   "id": "concerned-nelson",
   "metadata": {},
   "source": [
    "## Графики остатков"
   ]
  },
  {
   "cell_type": "code",
   "execution_count": 42,
   "id": "sophisticated-workshop",
   "metadata": {},
   "outputs": [
    {
     "data": {
      "image/png": "[encoded data removed]",
      "text/plain": [
       "<Figure size 432x288 with 1 Axes>"
      ]
     },
     "metadata": {
      "needs_background": "light"
     },
     "output_type": "display_data"
    }
   ],
   "source": [
    "residuals_north = y_north_test-y_north_pred\n",
    "plt.scatter(residuals_north, y_north_pred)\n",
    "plt.title('North residuals')\n",
    "plt.show()"
   ]
  },
  {
   "cell_type": "code",
   "execution_count": 41,
   "id": "super-hammer",
   "metadata": {},
   "outputs": [
    {
     "data": {
      "image/png": "[encoded data removed]",
      "text/plain": [
       "<Figure size 432x288 with 1 Axes>"
      ]
     },
     "metadata": {
      "needs_background": "light"
     },
     "output_type": "display_data"
    }
   ],
   "source": [
    "residuals_south = y_south_test-y_south_pred\n",
    "plt.scatter(residuals_south, y_south_pred)\n",
    "plt.title('South residuals')\n",
    "plt.show()"
   ]
  },
  {
   "cell_type": "code",
   "execution_count": null,
   "id": "incorrect-announcement",
   "metadata": {},
   "outputs": [],
   "source": []
  }
 ],
 "metadata": {
  "kernelspec": {
   "display_name": "Python 3",
   "language": "python",
   "name": "python3"
  },
  "language_info": {
   "codemirror_mode": {
    "name": "ipython",
    "version": 3
   },
   "file_extension": ".py",
   "mimetype": "text/x-python",
   "name": "python",
   "nbconvert_exporter": "python",
   "pygments_lexer": "ipython3",
   "version": "3.9.0"
  }
 },
 "nbformat": 4,
 "nbformat_minor": 5
}
