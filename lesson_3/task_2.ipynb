{
 "cells": [
  {
   "cell_type": "code",
   "execution_count": null,
   "id": "handled-music",
   "metadata": {},
   "outputs": [],
   "source": [
    "queries = [\n",
    "'смотреть сериалы онлайн',\n",
    "'новости спорта',\n",
    "'афиша кино',\n",
    "'курс доллара',\n",
    "'сериалы этим летом',\n",
    "'курс по питону',\n",
    "'сериалы про спорт',\n",
    "]\n",
    "obj = {}\n",
    "for i in queries:\n",
    "    amount = len(i.split(\" \"))\n",
    "    if amount in obj:\n",
    "        obj[amount] += 1\n",
    "    else:\n",
    "        obj[amount] = 1\n",
    "for key, value in obj.items():\n",
    "    print(\"Поисковых запросов, содержащих\", key, \"слов(а): \", round((value/len(queries))*100, 2), \"%\")"
   ]
  }
 ],
 "metadata": {
  "kernelspec": {
   "display_name": "Python 3",
   "language": "python",
   "name": "python3"
  },
  "language_info": {
   "codemirror_mode": {
    "name": "ipython",
    "version": 3
   },
   "file_extension": ".py",
   "mimetype": "text/x-python",
   "name": "python",
   "nbconvert_exporter": "python",
   "pygments_lexer": "ipython3",
   "version": "3.9.0"
  }
 },
 "nbformat": 4,
 "nbformat_minor": 5
}
