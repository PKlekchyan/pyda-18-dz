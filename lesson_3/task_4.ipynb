{
 "cells": [
  {
   "cell_type": "code",
   "execution_count": 1,
   "id": "approved-prevention",
   "metadata": {},
   "outputs": [
    {
     "name": "stdout",
     "output_type": "stream",
     "text": [
      "Максимальный объем продаж на рекламном канале:  vk\n"
     ]
    }
   ],
   "source": [
    "stats = {\"facebook\": 55, \"yandex\": 115, \"vk\": 120, \"google\": 99, \"email\": 42, \"ok\": 98}\n",
    "maximum = {\"name\": \"\", \"num\": 0}\n",
    "for key, value in stats.items():\n",
    "    if value > maximum['num']:\n",
    "        maximum[\"num\"] = value\n",
    "        maximum[\"name\"] = key\n",
    "print(\"Максимальный объем продаж на рекламном канале: \", maximum[\"name\"])"
   ]
  },
  {
   "cell_type": "code",
   "execution_count": null,
   "id": "exciting-mount",
   "metadata": {},
   "outputs": [],
   "source": []
  }
 ],
 "metadata": {
  "kernelspec": {
   "display_name": "Python 3",
   "language": "python",
   "name": "python3"
  },
  "language_info": {
   "codemirror_mode": {
    "name": "ipython",
    "version": 3
   },
   "file_extension": ".py",
   "mimetype": "text/x-python",
   "name": "python",
   "nbconvert_exporter": "python",
   "pygments_lexer": "ipython3",
   "version": "3.9.0"
  }
 },
 "nbformat": 4,
 "nbformat_minor": 5
}
