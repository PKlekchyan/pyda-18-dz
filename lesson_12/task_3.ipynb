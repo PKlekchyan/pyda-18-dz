{
 "cells": [
  {
   "cell_type": "code",
   "execution_count": 2,
   "id": "charitable-rating",
   "metadata": {},
   "outputs": [
    {
     "name": "stdout",
     "output_type": "stream",
     "text": [
      "Wall time: 307 ms\n"
     ]
    },
    {
     "data": {
      "text/plain": [
       "userId        3.430608e+02\n",
       "difference    3.933175e+07\n",
       "dtype: float64"
      ]
     },
     "execution_count": 2,
     "metadata": {},
     "output_type": "execute_result"
    }
   ],
   "source": [
    "%%time\n",
    "\n",
    "import pandas as pd\n",
    "df = pd.read_csv('ratings.csv', encoding='utf-8')\n",
    "\n",
    "def differenсe(data):\n",
    "    if len(data) >= 100: \n",
    "        return data.timestamp.max() - data.timestamp.min()\n",
    "    \n",
    "new = df.groupby('userId').apply(differenсe).reset_index()\n",
    "new.loc[~pd.isnull(new[0]), :].rename(columns={0 : 'difference'}).mean()\n",
    "\n"
   ]
  },
  {
   "cell_type": "code",
   "execution_count": null,
   "id": "genuine-series",
   "metadata": {},
   "outputs": [],
   "source": []
  }
 ],
 "metadata": {
  "kernelspec": {
   "display_name": "Python 3",
   "language": "python",
   "name": "python3"
  },
  "language_info": {
   "codemirror_mode": {
    "name": "ipython",
    "version": 3
   },
   "file_extension": ".py",
   "mimetype": "text/x-python",
   "name": "python",
   "nbconvert_exporter": "python",
   "pygments_lexer": "ipython3",
   "version": "3.9.0"
  }
 },
 "nbformat": 4,
 "nbformat_minor": 5
}
